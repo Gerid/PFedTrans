{
 "cells": [
  {
   "cell_type": "code",
   "execution_count": 1,
   "metadata": {},
   "outputs": [
    {
     "ename": "SyntaxError",
     "evalue": "invalid syntax (Temp/ipykernel_34524/1273866419.py, line 332)",
     "output_type": "error",
     "traceback": [
      "\u001b[1;36m  File \u001b[1;32m\"C:\\Users\\MSI\\AppData\\Local\\Temp/ipykernel_34524/1273866419.py\"\u001b[1;36m, line \u001b[1;32m332\u001b[0m\n\u001b[1;33m    args = parser.parse_args(args=[\"-data\",\"mnist\", \"-m\", \"cnn\", -algo FedTrans -gr 2500 -did 0 -go cnn -nc 2\")\u001b[0m\n\u001b[1;37m                                                                       ^\u001b[0m\n\u001b[1;31mSyntaxError\u001b[0m\u001b[1;31m:\u001b[0m invalid syntax\n"
     ]
    }
   ],
   "source": [
    "\n",
    "#!/usr/bin/env python\n",
    "import copy\n",
    "import torch\n",
    "import argparse\n",
    "import os\n",
    "import time\n",
    "import warnings\n",
    "import numpy as np\n",
    "import torchvision\n",
    "import logging\n",
    "\n",
    "from flcore.servers.serveravg import FedAvg\n",
    "from flcore.servers.serverpFedMe import pFedMe\n",
    "from flcore.servers.serverperavg import PerAvg\n",
    "from flcore.servers.serverprox import FedProx\n",
    "from flcore.servers.serverfomo import FedFomo\n",
    "from flcore.servers.serveramp import FedAMP\n",
    "from flcore.servers.servermtl import FedMTL\n",
    "from flcore.servers.serverlocal import Local\n",
    "from flcore.servers.serverper import FedPer\n",
    "from flcore.servers.serverapfl import APFL\n",
    "from flcore.servers.serverditto import Ditto\n",
    "from flcore.servers.serverrep import FedRep\n",
    "from flcore.servers.serverphp import FedPHP\n",
    "from flcore.servers.serverbn import FedBN\n",
    "from flcore.servers.serverrod import FedROD\n",
    "from flcore.servers.serverproto import FedProto\n",
    "from flcore.servers.serverdyn import FedDyn\n",
    "from flcore.servers.servermoon import MOON\n",
    "from flcore.servers.serverbabu import FedBABU\n",
    "from flcore.servers.serverapple import APPLE\n",
    "from flcore.servers.serverfedtrans import FedTrans \n",
    "\n",
    "from flcore.trainmodel.models import *\n",
    "\n",
    "from flcore.trainmodel.bilstm import BiLSTM_TextClassification\n",
    "# from flcore.trainmodel.resnet import resnet18 as resnet\n",
    "from flcore.trainmodel.alexnet import alexnet\n",
    "from flcore.trainmodel.mobilenet_v2 import mobilenet_v2\n",
    "from utils.result_utils import average_data\n",
    "from utils.mem_utils import MemReporter\n",
    "\n",
    "logger = logging.getLogger()\n",
    "logger.setLevel(logging.ERROR)\n",
    "\n",
    "warnings.simplefilter(\"ignore\")\n",
    "torch.manual_seed(0)\n",
    "\n",
    "# hyper-params for Text tasks\n",
    "vocab_size = 98635\n",
    "max_len=200\n",
    "hidden_dim=32\n",
    "\n",
    "def run(args):\n",
    "\n",
    "    time_list = []\n",
    "    reporter = MemReporter()\n",
    "    model_str = args.model\n",
    "\n",
    "    for i in range(args.prev, args.times):\n",
    "        print(f\"\\n============= Running time: {i}th =============\")\n",
    "        print(\"Creating server and clients ...\")\n",
    "        start = time.time()\n",
    "\n",
    "        # Generate args.model\n",
    "        if model_str == \"mlr\":\n",
    "            if args.dataset == \"mnist\" or args.dataset == \"fmnist\":\n",
    "                args.model = Mclr_Logistic(1*28*28, num_classes=args.num_classes).to(args.device)\n",
    "            elif args.dataset == \"Cifar10\" or args.dataset == \"Cifar100\":\n",
    "                args.model = Mclr_Logistic(3*32*32, num_classes=args.num_classes).to(args.device)\n",
    "            else:\n",
    "                args.model = Mclr_Logistic(60, num_classes=args.num_classes).to(args.device)\n",
    "\n",
    "        elif model_str == \"cnn\":\n",
    "            if args.dataset[:5] == \"mnist\" or args.dataset == \"fmnist\":\n",
    "                args.model = FedAvgCNN(in_features=1, num_classes=args.num_classes, dim=1024).to(args.device)\n",
    "            elif args.dataset == \"omniglot\":\n",
    "                args.model = FedAvgCNN(in_features=1, num_classes=args.num_classes, dim=33856).to(args.device)\n",
    "            elif args.dataset[:5] == \"Cifar\":\n",
    "                args.model = FedAvgCNN(in_features=3, num_classes=args.num_classes, dim=1600).to(args.device)\n",
    "                # args.model = CifarNet(num_classes=args.num_classes).to(args.device)\n",
    "            elif args.dataset == \"Digit5\":\n",
    "                args.model = Digit5CNN().to(args.device)\n",
    "            else:\n",
    "                args.model = FedAvgCNN(in_features=3, num_classes=args.num_classes, dim=10816).to(args.device)\n",
    "\n",
    "        elif model_str == \"dnn\": # non-convex\n",
    "            if args.dataset == \"mnist\" or args.dataset == \"fmnist\":\n",
    "                args.model = DNN(1*28*28, 100, num_classes=args.num_classes).to(args.device)\n",
    "            elif args.dataset == \"Cifar10\" or args.dataset == \"Cifar100\":\n",
    "                args.model = DNN(3*32*32, 100, num_classes=args.num_classes).to(args.device)\n",
    "            else:\n",
    "                args.model = DNN(60, 20, num_classes=args.num_classes).to(args.device)\n",
    "        \n",
    "        elif model_str == \"resnet\":\n",
    "            args.model = torchvision.models.resnet18(pretrained=False, num_classes=args.num_classes).to(args.device)\n",
    "            \n",
    "            # args.model = torchvision.models.resnet18(pretrained=True).to(args.device)\n",
    "            # feature_dim = list(args.model.fc.parameters())[0].shape[1]\n",
    "            # args.model.fc = nn.Linear(feature_dim, args.num_classes).to(args.device)\n",
    "            \n",
    "            # args.model = resnet18(num_classes=args.num_classes, has_bn=True, bn_block_num=4).to(args.device)\n",
    "\n",
    "        elif model_str == \"alexnet\":\n",
    "            args.model = alexnet(pretrained=False, num_classes=args.num_classes).to(args.device)\n",
    "            \n",
    "            # args.model = alexnet(pretrained=True).to(args.device)\n",
    "            # feature_dim = list(args.model.fc.parameters())[0].shape[1]\n",
    "            # args.model.fc = nn.Linear(feature_dim, args.num_classes).to(args.device)\n",
    "            \n",
    "        elif model_str == \"googlenet\":\n",
    "            args.model = torchvision.models.googlenet(pretrained=False, aux_logits=False, num_classes=args.num_classes).to(args.device)\n",
    "            \n",
    "            # args.model = torchvision.models.googlenet(pretrained=True, aux_logits=False).to(args.device)\n",
    "            # feature_dim = list(args.model.fc.parameters())[0].shape[1]\n",
    "            # args.model.fc = nn.Linear(feature_dim, args.num_classes).to(args.device)\n",
    "\n",
    "        elif model_str == \"mobilenet_v2\":\n",
    "            args.model = mobilenet_v2(pretrained=False, num_classes=args.num_classes).to(args.device)\n",
    "            \n",
    "            # args.model = mobilenet_v2(pretrained=True).to(args.device)\n",
    "            # feature_dim = list(args.model.fc.parameters())[0].shape[1]\n",
    "            # args.model.fc = nn.Linear(feature_dim, args.num_classes).to(args.device)\n",
    "            \n",
    "        elif model_str == \"lstm\":\n",
    "            args.model = LSTMNet(hidden_dim=hidden_dim, vocab_size=vocab_size, num_classes=args.num_classes).to(args.device)\n",
    "\n",
    "        elif model_str == \"bilstm\":\n",
    "            args.model = BiLSTM_TextClassification(input_size=vocab_size, hidden_size=hidden_dim, output_size=args.num_classes, \n",
    "                        num_layers=1, embedding_dropout=0, lstm_dropout=0, attention_dropout=0, \n",
    "                        embedding_length=hidden_dim).to(args.device)\n",
    "\n",
    "        elif model_str == \"fastText\":\n",
    "            args.model = fastText(hidden_dim=hidden_dim, vocab_size=vocab_size, num_classes=args.num_classes).to(args.device)\n",
    "\n",
    "        elif model_str == \"TextCNN\":\n",
    "            args.model = TextCNN(hidden_dim=hidden_dim, max_len=max_len, vocab_size=vocab_size, \n",
    "                            num_classes=args.num_classes).to(args.device)\n",
    "\n",
    "        elif model_str == \"Transformer\":\n",
    "            args.model = TransformerModel(ntoken=vocab_size, d_model=hidden_dim, nhead=2, d_hid=hidden_dim, nlayers=2, \n",
    "                            num_classes=args.num_classes).to(args.device)\n",
    "        \n",
    "        elif model_str == \"AmazonMLP\":\n",
    "            args.model = AmazonMLP().to(args.device)\n",
    "\n",
    "        else:\n",
    "            raise NotImplementedError\n",
    "\n",
    "        print(args.model)\n",
    "\n",
    "        # select algorithm\n",
    "        if args.algorithm == \"FedAvg\":\n",
    "            server = FedAvg(args, i)\n",
    "\n",
    "        elif args.algorithm == \"Local\":\n",
    "            server = Local(args, i)\n",
    "\n",
    "        elif args.algorithm == \"FedMTL\":\n",
    "            server = FedMTL(args, i)\n",
    "\n",
    "        elif args.algorithm == \"PerAvg\":\n",
    "            server = PerAvg(args, i)\n",
    "\n",
    "        elif args.algorithm == \"pFedMe\":\n",
    "            server = pFedMe(args, i)\n",
    "\n",
    "        elif args.algorithm == \"FedProx\":\n",
    "            server = FedProx(args, i)\n",
    "\n",
    "        elif args.algorithm == \"FedFomo\":\n",
    "            server = FedFomo(args, i)\n",
    "\n",
    "        elif args.algorithm == \"FedAMP\":\n",
    "            server = FedAMP(args, i)\n",
    "\n",
    "        elif args.algorithm == \"APFL\":\n",
    "            server = APFL(args, i)\n",
    "\n",
    "        elif args.algorithm == \"FedPer\":\n",
    "            args.head = copy.deepcopy(args.model.fc)\n",
    "            args.model.fc = nn.Identity()\n",
    "            args.model = LocalModel(args.model, args.head)\n",
    "            server = FedPer(args, i)\n",
    "\n",
    "        elif args.algorithm == \"Ditto\":\n",
    "            server = Ditto(args, i)\n",
    "\n",
    "        elif args.algorithm == \"FedRep\":\n",
    "            args.head = copy.deepcopy(args.model.fc)\n",
    "            args.model.fc = nn.Identity()\n",
    "            args.model = LocalModel(args.model, args.head)\n",
    "            server = FedRep(args, i)\n",
    "\n",
    "        elif args.algorithm == \"FedPHP\":\n",
    "            args.head = copy.deepcopy(args.model.fc)\n",
    "            args.model.fc = nn.Identity()\n",
    "            args.model = LocalModel(args.model, args.head)\n",
    "            server = FedPHP(args, i)\n",
    "\n",
    "        elif args.algorithm == \"FedBN\":\n",
    "            server = FedBN(args, i)\n",
    "\n",
    "        elif args.algorithm == \"FedROD\":\n",
    "            args.head = copy.deepcopy(args.model.fc)\n",
    "            args.model.fc = nn.Identity()\n",
    "            args.model = LocalModel(args.model, args.head)\n",
    "            server = FedROD(args, i)\n",
    "\n",
    "        elif args.algorithm == \"FedProto\":\n",
    "            args.head = copy.deepcopy(args.model.fc)\n",
    "            args.model.fc = nn.Identity()\n",
    "            args.model = LocalModel(args.model, args.head)\n",
    "            server = FedProto(args, i)\n",
    "\n",
    "        elif args.algorithm == \"FedDyn\":\n",
    "            server = FedDyn(args, i)\n",
    "\n",
    "        elif args.algorithm == \"MOON\":\n",
    "            args.head = copy.deepcopy(args.model.fc)\n",
    "            args.model.fc = nn.Identity()\n",
    "            args.model = LocalModel(args.model, args.head)\n",
    "            server = MOON(args, i)\n",
    "\n",
    "        elif args.algorithm == \"FedBABU\":\n",
    "            args.head = copy.deepcopy(args.model.fc)\n",
    "            args.model.fc = nn.Identity()\n",
    "            args.model = LocalModel(args.model, args.head)\n",
    "            server = FedBABU(args, i)\n",
    "\n",
    "        elif args.algorithm == \"APPLE\":\n",
    "            server = APPLE(args, i)\n",
    "            \n",
    "        elif args.algorithm == \"FedTrans\":\n",
    "            args.head = copy.deepcopy(args.model.fc)\n",
    "            args.model.fc = nn.Identity()\n",
    "            args.model = LocalModel(args.model, args.head)\n",
    "            server = FedTrans(args, i)\n",
    "            \n",
    "        else:\n",
    "            raise NotImplementedError\n",
    "    \n",
    "    return server\n",
    "\n",
    "if __name__ == \"__main__\":\n",
    "    total_start = time.time()\n",
    "\n",
    "    parser = argparse.ArgumentParser()\n",
    "    # general\n",
    "    parser.add_argument('-go', \"--goal\", type=str, default=\"test\", \n",
    "                        help=\"The goal for this experiment\")\n",
    "    parser.add_argument('-dev', \"--device\", type=str, default=\"cuda\",\n",
    "                        choices=[\"cpu\", \"cuda\"])\n",
    "    parser.add_argument('-did', \"--device_id\", type=str, default=\"0\")\n",
    "    parser.add_argument('-data', \"--dataset\", type=str, default=\"mnist\")\n",
    "    parser.add_argument('-nb', \"--num_classes\", type=int, default=10)\n",
    "    parser.add_argument('-m', \"--model\", type=str, default=\"cnn\")\n",
    "    parser.add_argument('-p', \"--head\", type=str, default=\"cnn\")\n",
    "    parser.add_argument('-lbs', \"--batch_size\", type=int, default=10)\n",
    "    parser.add_argument('-lr', \"--local_learning_rate\", type=float, default=0.005,\n",
    "                        help=\"Local learning rate\")\n",
    "    parser.add_argument('-gr', \"--global_rounds\", type=int, default=1000)\n",
    "    parser.add_argument('-ls', \"--local_steps\", type=int, default=1)\n",
    "    parser.add_argument('-algo', \"--algorithm\", type=str, default=\"FedAvg\")\n",
    "    parser.add_argument('-jr', \"--join_ratio\", type=float, default=1.0,\n",
    "                        help=\"Ratio of clients per round\")\n",
    "    parser.add_argument('-rjr', \"--random_join_ratio\", type=bool, default=False,\n",
    "                        help=\"Random ratio of clients per round\")\n",
    "    parser.add_argument('-nc', \"--num_clients\", type=int, default=2,\n",
    "                        help=\"Total number of clients\")\n",
    "    parser.add_argument('-pv', \"--prev\", type=int, default=0,\n",
    "                        help=\"Previous Running times\")\n",
    "    parser.add_argument('-t', \"--times\", type=int, default=1,\n",
    "                        help=\"Running times\")\n",
    "    parser.add_argument('-eg', \"--eval_gap\", type=int, default=1,\n",
    "                        help=\"Rounds gap for evaluation\")\n",
    "    parser.add_argument('-dp', \"--privacy\", type=bool, default=False,\n",
    "                        help=\"differential privacy\")\n",
    "    parser.add_argument('-dps', \"--dp_sigma\", type=float, default=0.0)\n",
    "    parser.add_argument('-sfn', \"--save_folder_name\", type=str, default='models')\n",
    "    # practical\n",
    "    parser.add_argument('-cdr', \"--client_drop_rate\", type=float, default=0.0,\n",
    "                        help=\"Rate for clients that train but drop out\")\n",
    "    parser.add_argument('-tsr', \"--train_slow_rate\", type=float, default=0.0,\n",
    "                        help=\"The rate for slow clients when training locally\")\n",
    "    parser.add_argument('-ssr', \"--send_slow_rate\", type=float, default=0.0,\n",
    "                        help=\"The rate for slow clients when sending global model\")\n",
    "    parser.add_argument('-ts', \"--time_select\", type=bool, default=False,\n",
    "                        help=\"Whether to group and select clients at each round according to time cost\")\n",
    "    parser.add_argument('-tth', \"--time_threthold\", type=float, default=10000,\n",
    "                        help=\"The threthold for droping slow clients\")\n",
    "    # pFedMe / PerAvg / FedProx / FedAMP / FedPHP\n",
    "    parser.add_argument('-bt', \"--beta\", type=float, default=0.0,\n",
    "                        help=\"Average moving parameter for pFedMe, Second learning rate of Per-FedAvg, \\\n",
    "                        or L1 regularization weight of FedTransfer\")\n",
    "    parser.add_argument('-lam', \"--lamda\", type=float, default=1.0,\n",
    "                        help=\"Regularization weight for pFedMe and FedAMP\")\n",
    "    parser.add_argument('-mu', \"--mu\", type=float, default=0,\n",
    "                        help=\"Proximal rate for FedProx\")\n",
    "    parser.add_argument('-K', \"--K\", type=int, default=5,\n",
    "                        help=\"Number of personalized training steps for pFedMe\")\n",
    "    parser.add_argument('-lrp', \"--p_learning_rate\", type=float, default=0.01,\n",
    "                        help=\"personalized learning rate to caculate theta aproximately using K steps\")\n",
    "    # FedFomo\n",
    "    parser.add_argument('-M', \"--M\", type=int, default=5,\n",
    "                        help=\"Server only sends M client models to one client at each round\")\n",
    "    # FedMTL\n",
    "    parser.add_argument('-itk', \"--itk\", type=int, default=4000,\n",
    "                        help=\"The iterations for solving quadratic subproblems\")\n",
    "    # FedAMP\n",
    "    parser.add_argument('-alk', \"--alphaK\", type=float, default=1.0, \n",
    "                        help=\"lambda/sqrt(GLOABL-ITRATION) according to the paper\")\n",
    "    parser.add_argument('-sg', \"--sigma\", type=float, default=1.0)\n",
    "    # APFL\n",
    "    parser.add_argument('-al', \"--alpha\", type=float, default=1.0)\n",
    "    # Ditto / FedRep\n",
    "    parser.add_argument('-pls', \"--plocal_steps\", type=int, default=1)\n",
    "    # MOON\n",
    "    parser.add_argument('-ta', \"--tau\", type=float, default=1.0)\n",
    "    # FedBABU\n",
    "    parser.add_argument('-fts', \"--fine_tuning_steps\", type=int, default=1)\n",
    "    # APPLE\n",
    "    parser.add_argument('-dlr', \"--dr_learning_rate\", type=float, default=0.0)\n",
    "    parser.add_argument('-L', \"--L\", type=float, default=1.0)\n",
    "    #FedTrans\n",
    "    parser.add_argument('-ere', \"--every_recluster_eps\", type=int, default=5)\n",
    "    parser.add_argument('-ed', \"--emb_dim\", type=int, default=128)\n",
    "    parser.add_argument('-alr', \"--attn_learning_rate\", type=float, default=0.005)\n",
    "    parser.add_argument('-ncl', \"--num_cluster\", type=int, default=10)\n",
    "\n",
    "    \n",
    "    args = parser.parse_args(args=[\"-data\",\"mnist\", \"-m\", \"cnn\", -algo FedTrans -gr 2500 -did 0 -go cnn -nc 2\")\n",
    "    os.environ[\"CUDA_VISIBLE_DEVICES\"] = args.device_id\n",
    "\n",
    "    if args.device == \"cuda\" and not torch.cuda.is_available():\n",
    "        print(\"\\ncuda is not avaiable.\\n\")\n",
    "        args.device = \"cpu\"\n",
    "\n",
    "    print(\"=\" * 50)\n",
    "\n",
    "    print(\"Algorithm: {}\".format(args.algorithm))\n",
    "    print(\"Local batch size: {}\".format(args.batch_size))\n",
    "    print(\"Local steps: {}\".format(args.local_steps))\n",
    "    print(\"Local learing rate: {}\".format(args.local_learning_rate))\n",
    "    print(\"Total number of clients: {}\".format(args.num_clients))\n",
    "    print(\"Clients join in each round: {}\".format(args.join_ratio))\n",
    "    print(\"Client drop rate: {}\".format(args.client_drop_rate))\n",
    "    print(\"Time select: {}\".format(args.time_select))\n",
    "    print(\"Time threthold: {}\".format(args.time_threthold))\n",
    "    print(\"Global rounds: {}\".format(args.global_rounds))\n",
    "    print(\"Running times: {}\".format(args.times))\n",
    "    print(\"Dataset: {}\".format(args.dataset))\n",
    "    print(\"Local model: {}\".format(args.model))\n",
    "    print(\"Using device: {}\".format(args.device))\n",
    "\n",
    "    if args.device == \"cuda\":\n",
    "        print(\"Cuda device id: {}\".format(os.environ[\"CUDA_VISIBLE_DEVICES\"]))\n",
    "    print(\"=\" * 50)\n",
    "\n",
    "\n",
    "    # if args.dataset == \"mnist\" or args.dataset == \"fmnist\":\n",
    "    #     generate_mnist('../dataset/mnist/', args.num_clients, 10, args.niid)\n",
    "    # elif args.dataset == \"Cifar10\" or args.dataset == \"Cifar100\":\n",
    "    #     generate_cifar10('../dataset/Cifar10/', args.num_clients, 10, args.niid)\n",
    "    # else:\n",
    "    #     generate_synthetic('../dataset/synthetic/', args.num_clients, 10, args.niid)\n",
    "\n",
    "    # with torch.profiler.profile(\n",
    "    #     activities=[\n",
    "    #         torch.profiler.ProfilerActivity.CPU,\n",
    "    #         torch.profiler.ProfilerActivity.CUDA],\n",
    "    #     profile_memory=True, \n",
    "    #     on_trace_ready=torch.profiler.tensorboard_trace_handler('./log')\n",
    "    #     ) as prof:\n",
    "    # with torch.autograd.profiler.profile(profile_memory=True) as prof:\n",
    "    server = run(args)\n",
    "\n",
    "    \n",
    "    # print(prof.key_averages().table(sort_by=\"cpu_time_total\", row_limit=20))\n",
    "    # print(f\"\\nTotal time cost: {round(time.time()-total_start, 2)}s.\")\n"
   ]
  },
  {
   "cell_type": "code",
   "execution_count": 12,
   "metadata": {},
   "outputs": [
    {
     "name": "stdout",
     "output_type": "stream",
     "text": [
      "[tensor([[-0.0203,  0.0265,  0.0265,  0.0092,  0.0197,  0.0188,  0.0240, -0.0010,\n",
      "         -0.0064, -0.0164,  0.0229,  0.0131,  0.0095, -0.0219, -0.0100, -0.0188,\n",
      "          0.0344,  0.0322,  0.0388, -0.0056,  0.0178,  0.0253,  0.0166,  0.0336,\n",
      "          0.0009,  0.0038,  0.0136, -0.0013,  0.0142,  0.0146, -0.0167,  0.0278,\n",
      "         -0.0181, -0.0092,  0.0094,  0.0225,  0.0055, -0.0187,  0.0293,  0.0201,\n",
      "         -0.0229, -0.0218, -0.0211,  0.0274, -0.0080,  0.0148, -0.0203, -0.0275,\n",
      "         -0.0081,  0.0107,  0.0158,  0.0093, -0.0247, -0.0167,  0.0544, -0.0046,\n",
      "          0.0095, -0.0067, -0.0074,  0.0156,  0.0085,  0.0234, -0.0052,  0.0204,\n",
      "         -0.0222,  0.0008,  0.0158, -0.0140,  0.0019,  0.0103, -0.0138, -0.0159,\n",
      "         -0.0168,  0.0061, -0.0049, -0.0009,  0.0071, -0.0128,  0.0130, -0.0022,\n",
      "          0.0123, -0.0407,  0.0122,  0.0169, -0.0096, -0.0321,  0.0036,  0.0004,\n",
      "          0.0094,  0.0029,  0.0042,  0.0099, -0.0069,  0.0014, -0.0162, -0.0421,\n",
      "          0.0053, -0.0012, -0.0038, -0.0133,  0.0057,  0.0104, -0.0273, -0.0180,\n",
      "         -0.0036, -0.0044, -0.0128,  0.0076,  0.0035,  0.0108, -0.0032, -0.0064,\n",
      "         -0.0117,  0.0003,  0.0038,  0.0132,  0.0046, -0.0169,  0.0249,  0.0177,\n",
      "         -0.0003, -0.0218, -0.0235,  0.0297, -0.0004, -0.0013,  0.0098, -0.0093]],\n",
      "       device='cuda:0', requires_grad=True), tensor([[-0.0203,  0.0265,  0.0265,  0.0091,  0.0198,  0.0188,  0.0240, -0.0010,\n",
      "         -0.0064, -0.0164,  0.0230,  0.0131,  0.0096, -0.0219, -0.0100, -0.0188,\n",
      "          0.0344,  0.0322,  0.0388, -0.0056,  0.0178,  0.0254,  0.0166,  0.0336,\n",
      "          0.0009,  0.0038,  0.0136, -0.0012,  0.0142,  0.0146, -0.0167,  0.0278,\n",
      "         -0.0181, -0.0092,  0.0094,  0.0225,  0.0056, -0.0188,  0.0293,  0.0201,\n",
      "         -0.0228, -0.0218, -0.0212,  0.0275, -0.0080,  0.0149, -0.0202, -0.0275,\n",
      "         -0.0081,  0.0108,  0.0158,  0.0094, -0.0247, -0.0167,  0.0544, -0.0047,\n",
      "          0.0095, -0.0066, -0.0073,  0.0158,  0.0084,  0.0234, -0.0052,  0.0203,\n",
      "         -0.0221,  0.0008,  0.0158, -0.0140,  0.0020,  0.0103, -0.0137, -0.0159,\n",
      "         -0.0169,  0.0060, -0.0050, -0.0009,  0.0071, -0.0127,  0.0131, -0.0022,\n",
      "          0.0124, -0.0407,  0.0123,  0.0170, -0.0096, -0.0321,  0.0035,  0.0004,\n",
      "          0.0094,  0.0029,  0.0043,  0.0099, -0.0068,  0.0013, -0.0162, -0.0421,\n",
      "          0.0053, -0.0011, -0.0038, -0.0134,  0.0056,  0.0105, -0.0273, -0.0180,\n",
      "         -0.0036, -0.0044, -0.0129,  0.0077,  0.0034,  0.0108, -0.0032, -0.0065,\n",
      "         -0.0119,  0.0004,  0.0038,  0.0132,  0.0045, -0.0169,  0.0248,  0.0178,\n",
      "         -0.0003, -0.0218, -0.0234,  0.0297, -0.0004, -0.0013,  0.0097, -0.0093]],\n",
      "       device='cuda:0', requires_grad=True), tensor([[-0.0203,  0.0264,  0.0265,  0.0091,  0.0198,  0.0189,  0.0240, -0.0010,\n",
      "         -0.0064, -0.0164,  0.0229,  0.0131,  0.0095, -0.0220, -0.0100, -0.0187,\n",
      "          0.0344,  0.0323,  0.0388, -0.0055,  0.0177,  0.0253,  0.0165,  0.0336,\n",
      "          0.0009,  0.0038,  0.0136, -0.0013,  0.0142,  0.0146, -0.0167,  0.0278,\n",
      "         -0.0182, -0.0092,  0.0095,  0.0225,  0.0055, -0.0188,  0.0293,  0.0202,\n",
      "         -0.0230, -0.0218, -0.0212,  0.0275, -0.0080,  0.0148, -0.0202, -0.0275,\n",
      "         -0.0082,  0.0108,  0.0158,  0.0094, -0.0247, -0.0167,  0.0544, -0.0046,\n",
      "          0.0094, -0.0066, -0.0074,  0.0157,  0.0085,  0.0235, -0.0052,  0.0203,\n",
      "         -0.0221,  0.0007,  0.0158, -0.0141,  0.0019,  0.0103, -0.0138, -0.0159,\n",
      "         -0.0169,  0.0060, -0.0049, -0.0009,  0.0071, -0.0127,  0.0130, -0.0021,\n",
      "          0.0124, -0.0407,  0.0123,  0.0170, -0.0096, -0.0321,  0.0035,  0.0004,\n",
      "          0.0094,  0.0029,  0.0043,  0.0100, -0.0069,  0.0014, -0.0162, -0.0420,\n",
      "          0.0053, -0.0011, -0.0037, -0.0133,  0.0056,  0.0104, -0.0273, -0.0180,\n",
      "         -0.0036, -0.0044, -0.0129,  0.0076,  0.0035,  0.0107, -0.0033, -0.0064,\n",
      "         -0.0117,  0.0003,  0.0039,  0.0132,  0.0046, -0.0169,  0.0249,  0.0177,\n",
      "         -0.0003, -0.0218, -0.0235,  0.0297, -0.0004, -0.0012,  0.0098, -0.0094]],\n",
      "       device='cuda:0', requires_grad=True), tensor([[-0.0203,  0.0265,  0.0265,  0.0091,  0.0198,  0.0188,  0.0240, -0.0010,\n",
      "         -0.0064, -0.0164,  0.0229,  0.0131,  0.0095, -0.0220, -0.0100, -0.0188,\n",
      "          0.0344,  0.0323,  0.0388, -0.0055,  0.0177,  0.0253,  0.0166,  0.0336,\n",
      "          0.0009,  0.0038,  0.0136, -0.0013,  0.0142,  0.0146, -0.0167,  0.0278,\n",
      "         -0.0181, -0.0092,  0.0094,  0.0225,  0.0055, -0.0187,  0.0292,  0.0201,\n",
      "         -0.0229, -0.0218, -0.0211,  0.0275, -0.0079,  0.0148, -0.0202, -0.0275,\n",
      "         -0.0081,  0.0107,  0.0158,  0.0094, -0.0247, -0.0167,  0.0544, -0.0047,\n",
      "          0.0095, -0.0066, -0.0073,  0.0157,  0.0085,  0.0234, -0.0052,  0.0203,\n",
      "         -0.0221,  0.0008,  0.0158, -0.0140,  0.0019,  0.0103, -0.0138, -0.0159,\n",
      "         -0.0168,  0.0060, -0.0050, -0.0009,  0.0071, -0.0127,  0.0130, -0.0022,\n",
      "          0.0123, -0.0407,  0.0123,  0.0169, -0.0096, -0.0321,  0.0036,  0.0004,\n",
      "          0.0094,  0.0030,  0.0042,  0.0099, -0.0069,  0.0014, -0.0162, -0.0421,\n",
      "          0.0053, -0.0011, -0.0038, -0.0133,  0.0056,  0.0104, -0.0272, -0.0180,\n",
      "         -0.0036, -0.0044, -0.0129,  0.0076,  0.0034,  0.0108, -0.0032, -0.0064,\n",
      "         -0.0118,  0.0003,  0.0039,  0.0132,  0.0046, -0.0169,  0.0249,  0.0178,\n",
      "         -0.0003, -0.0218, -0.0235,  0.0296, -0.0005, -0.0013,  0.0098, -0.0094]],\n",
      "       device='cuda:0', requires_grad=True), tensor([[-0.0203,  0.0265,  0.0265,  0.0092,  0.0197,  0.0188,  0.0240, -0.0010,\n",
      "         -0.0064, -0.0164,  0.0229,  0.0131,  0.0095, -0.0219, -0.0100, -0.0188,\n",
      "          0.0344,  0.0322,  0.0388, -0.0056,  0.0178,  0.0253,  0.0165,  0.0336,\n",
      "          0.0009,  0.0038,  0.0136, -0.0012,  0.0142,  0.0145, -0.0167,  0.0278,\n",
      "         -0.0181, -0.0092,  0.0094,  0.0225,  0.0055, -0.0187,  0.0292,  0.0201,\n",
      "         -0.0229, -0.0218, -0.0212,  0.0275, -0.0080,  0.0148, -0.0203, -0.0275,\n",
      "         -0.0081,  0.0108,  0.0158,  0.0093, -0.0247, -0.0167,  0.0544, -0.0046,\n",
      "          0.0095, -0.0066, -0.0074,  0.0157,  0.0085,  0.0234, -0.0052,  0.0203,\n",
      "         -0.0221,  0.0008,  0.0158, -0.0140,  0.0019,  0.0103, -0.0138, -0.0159,\n",
      "         -0.0168,  0.0061, -0.0049, -0.0009,  0.0071, -0.0128,  0.0130, -0.0022,\n",
      "          0.0123, -0.0407,  0.0123,  0.0170, -0.0096, -0.0321,  0.0036,  0.0004,\n",
      "          0.0095,  0.0029,  0.0042,  0.0100, -0.0069,  0.0014, -0.0162, -0.0421,\n",
      "          0.0053, -0.0011, -0.0038, -0.0133,  0.0056,  0.0104, -0.0272, -0.0179,\n",
      "         -0.0036, -0.0044, -0.0129,  0.0077,  0.0035,  0.0108, -0.0033, -0.0064,\n",
      "         -0.0118,  0.0003,  0.0039,  0.0132,  0.0046, -0.0169,  0.0249,  0.0178,\n",
      "         -0.0003, -0.0218, -0.0235,  0.0296, -0.0005, -0.0013,  0.0098, -0.0093]],\n",
      "       device='cuda:0', requires_grad=True), tensor([[-0.0203,  0.0265,  0.0265,  0.0091,  0.0198,  0.0188,  0.0240, -0.0010,\n",
      "         -0.0064, -0.0164,  0.0229,  0.0131,  0.0095, -0.0220, -0.0100, -0.0188,\n",
      "          0.0344,  0.0323,  0.0388, -0.0055,  0.0177,  0.0253,  0.0166,  0.0336,\n",
      "          0.0009,  0.0038,  0.0136, -0.0013,  0.0142,  0.0146, -0.0167,  0.0278,\n",
      "         -0.0181, -0.0092,  0.0094,  0.0225,  0.0055, -0.0187,  0.0292,  0.0201,\n",
      "         -0.0229, -0.0218, -0.0211,  0.0275, -0.0079,  0.0148, -0.0202, -0.0275,\n",
      "         -0.0081,  0.0107,  0.0158,  0.0094, -0.0247, -0.0167,  0.0544, -0.0047,\n",
      "          0.0095, -0.0066, -0.0073,  0.0157,  0.0085,  0.0234, -0.0052,  0.0203,\n",
      "         -0.0221,  0.0008,  0.0158, -0.0140,  0.0019,  0.0103, -0.0138, -0.0159,\n",
      "         -0.0168,  0.0060, -0.0050, -0.0009,  0.0071, -0.0127,  0.0130, -0.0022,\n",
      "          0.0123, -0.0407,  0.0123,  0.0169, -0.0096, -0.0321,  0.0036,  0.0004,\n",
      "          0.0094,  0.0030,  0.0042,  0.0099, -0.0069,  0.0014, -0.0162, -0.0421,\n",
      "          0.0053, -0.0011, -0.0038, -0.0133,  0.0056,  0.0104, -0.0272, -0.0180,\n",
      "         -0.0036, -0.0044, -0.0129,  0.0076,  0.0034,  0.0108, -0.0032, -0.0064,\n",
      "         -0.0118,  0.0003,  0.0039,  0.0132,  0.0046, -0.0169,  0.0249,  0.0178,\n",
      "         -0.0003, -0.0218, -0.0235,  0.0296, -0.0005, -0.0013,  0.0098, -0.0094]],\n",
      "       device='cuda:0', requires_grad=True), tensor([[-0.0203,  0.0264,  0.0265,  0.0092,  0.0198,  0.0188,  0.0240, -0.0010,\n",
      "         -0.0063, -0.0164,  0.0229,  0.0131,  0.0095, -0.0219, -0.0100, -0.0188,\n",
      "          0.0344,  0.0323,  0.0388, -0.0056,  0.0177,  0.0253,  0.0166,  0.0336,\n",
      "          0.0009,  0.0037,  0.0136, -0.0012,  0.0143,  0.0145, -0.0168,  0.0278,\n",
      "         -0.0181, -0.0092,  0.0094,  0.0224,  0.0055, -0.0187,  0.0293,  0.0201,\n",
      "         -0.0230, -0.0218, -0.0211,  0.0275, -0.0080,  0.0148, -0.0203, -0.0275,\n",
      "         -0.0082,  0.0108,  0.0158,  0.0094, -0.0247, -0.0167,  0.0544, -0.0047,\n",
      "          0.0094, -0.0066, -0.0074,  0.0157,  0.0085,  0.0235, -0.0051,  0.0203,\n",
      "         -0.0221,  0.0008,  0.0157, -0.0140,  0.0020,  0.0103, -0.0138, -0.0158,\n",
      "         -0.0169,  0.0060, -0.0049, -0.0009,  0.0071, -0.0127,  0.0131, -0.0022,\n",
      "          0.0124, -0.0407,  0.0122,  0.0170, -0.0096, -0.0321,  0.0035,  0.0004,\n",
      "          0.0094,  0.0029,  0.0042,  0.0099, -0.0069,  0.0014, -0.0162, -0.0421,\n",
      "          0.0053, -0.0011, -0.0038, -0.0133,  0.0056,  0.0105, -0.0272, -0.0180,\n",
      "         -0.0036, -0.0044, -0.0128,  0.0076,  0.0035,  0.0108, -0.0032, -0.0064,\n",
      "         -0.0117,  0.0003,  0.0039,  0.0133,  0.0046, -0.0169,  0.0249,  0.0178,\n",
      "         -0.0003, -0.0218, -0.0235,  0.0297, -0.0004, -0.0013,  0.0098, -0.0093]],\n",
      "       device='cuda:0', requires_grad=True), tensor([[-0.0203,  0.0264,  0.0265,  0.0091,  0.0198,  0.0189,  0.0240, -0.0010,\n",
      "         -0.0064, -0.0164,  0.0229,  0.0131,  0.0095, -0.0220, -0.0100, -0.0187,\n",
      "          0.0344,  0.0323,  0.0388, -0.0055,  0.0177,  0.0253,  0.0165,  0.0336,\n",
      "          0.0009,  0.0038,  0.0136, -0.0013,  0.0142,  0.0146, -0.0167,  0.0278,\n",
      "         -0.0182, -0.0092,  0.0095,  0.0225,  0.0055, -0.0188,  0.0293,  0.0202,\n",
      "         -0.0230, -0.0218, -0.0212,  0.0275, -0.0080,  0.0148, -0.0202, -0.0275,\n",
      "         -0.0082,  0.0108,  0.0158,  0.0094, -0.0247, -0.0167,  0.0544, -0.0046,\n",
      "          0.0094, -0.0066, -0.0074,  0.0157,  0.0085,  0.0235, -0.0052,  0.0203,\n",
      "         -0.0221,  0.0007,  0.0158, -0.0141,  0.0019,  0.0103, -0.0138, -0.0159,\n",
      "         -0.0169,  0.0060, -0.0049, -0.0009,  0.0071, -0.0127,  0.0130, -0.0021,\n",
      "          0.0124, -0.0407,  0.0123,  0.0170, -0.0096, -0.0321,  0.0035,  0.0004,\n",
      "          0.0094,  0.0029,  0.0043,  0.0100, -0.0069,  0.0014, -0.0162, -0.0420,\n",
      "          0.0053, -0.0011, -0.0037, -0.0133,  0.0056,  0.0104, -0.0273, -0.0180,\n",
      "         -0.0036, -0.0044, -0.0129,  0.0076,  0.0035,  0.0107, -0.0033, -0.0064,\n",
      "         -0.0117,  0.0003,  0.0039,  0.0132,  0.0046, -0.0169,  0.0249,  0.0177,\n",
      "         -0.0003, -0.0218, -0.0235,  0.0297, -0.0004, -0.0012,  0.0098, -0.0094]],\n",
      "       device='cuda:0', requires_grad=True), tensor([[-0.0203,  0.0265,  0.0265,  0.0092,  0.0198,  0.0188,  0.0240, -0.0010,\n",
      "         -0.0063, -0.0164,  0.0229,  0.0131,  0.0095, -0.0219, -0.0100, -0.0188,\n",
      "          0.0344,  0.0322,  0.0388, -0.0056,  0.0178,  0.0253,  0.0165,  0.0336,\n",
      "          0.0009,  0.0037,  0.0136, -0.0013,  0.0142,  0.0145, -0.0167,  0.0277,\n",
      "         -0.0181, -0.0092,  0.0094,  0.0225,  0.0055, -0.0187,  0.0293,  0.0202,\n",
      "         -0.0229, -0.0218, -0.0211,  0.0275, -0.0079,  0.0148, -0.0202, -0.0275,\n",
      "         -0.0081,  0.0108,  0.0158,  0.0093, -0.0247, -0.0167,  0.0544, -0.0046,\n",
      "          0.0094, -0.0066, -0.0074,  0.0157,  0.0086,  0.0234, -0.0052,  0.0203,\n",
      "         -0.0221,  0.0008,  0.0158, -0.0140,  0.0020,  0.0103, -0.0138, -0.0159,\n",
      "         -0.0169,  0.0060, -0.0049, -0.0009,  0.0071, -0.0127,  0.0130, -0.0022,\n",
      "          0.0123, -0.0407,  0.0122,  0.0169, -0.0096, -0.0321,  0.0036,  0.0004,\n",
      "          0.0094,  0.0029,  0.0042,  0.0099, -0.0069,  0.0014, -0.0162, -0.0421,\n",
      "          0.0053, -0.0011, -0.0038, -0.0133,  0.0057,  0.0104, -0.0272, -0.0180,\n",
      "         -0.0036, -0.0044, -0.0128,  0.0076,  0.0035,  0.0108, -0.0032, -0.0064,\n",
      "         -0.0118,  0.0003,  0.0039,  0.0133,  0.0046, -0.0169,  0.0249,  0.0177,\n",
      "         -0.0003, -0.0218, -0.0235,  0.0296, -0.0005, -0.0013,  0.0098, -0.0094]],\n",
      "       device='cuda:0', requires_grad=True), tensor([[-0.0203,  0.0265,  0.0265,  0.0092,  0.0198,  0.0188,  0.0240, -0.0010,\n",
      "         -0.0063, -0.0164,  0.0229,  0.0131,  0.0095, -0.0219, -0.0100, -0.0188,\n",
      "          0.0344,  0.0322,  0.0388, -0.0056,  0.0178,  0.0253,  0.0165,  0.0336,\n",
      "          0.0009,  0.0037,  0.0136, -0.0013,  0.0142,  0.0145, -0.0167,  0.0277,\n",
      "         -0.0181, -0.0092,  0.0094,  0.0225,  0.0055, -0.0187,  0.0293,  0.0202,\n",
      "         -0.0229, -0.0218, -0.0211,  0.0275, -0.0079,  0.0148, -0.0202, -0.0275,\n",
      "         -0.0081,  0.0108,  0.0158,  0.0093, -0.0247, -0.0167,  0.0544, -0.0046,\n",
      "          0.0094, -0.0066, -0.0074,  0.0157,  0.0086,  0.0234, -0.0052,  0.0203,\n",
      "         -0.0221,  0.0008,  0.0158, -0.0140,  0.0020,  0.0103, -0.0138, -0.0159,\n",
      "         -0.0169,  0.0060, -0.0049, -0.0009,  0.0071, -0.0127,  0.0130, -0.0022,\n",
      "          0.0123, -0.0407,  0.0122,  0.0169, -0.0096, -0.0321,  0.0036,  0.0004,\n",
      "          0.0094,  0.0029,  0.0042,  0.0099, -0.0069,  0.0014, -0.0162, -0.0421,\n",
      "          0.0053, -0.0011, -0.0038, -0.0133,  0.0057,  0.0104, -0.0272, -0.0180,\n",
      "         -0.0036, -0.0044, -0.0128,  0.0076,  0.0035,  0.0108, -0.0032, -0.0064,\n",
      "         -0.0118,  0.0003,  0.0039,  0.0133,  0.0046, -0.0169,  0.0249,  0.0177,\n",
      "         -0.0003, -0.0218, -0.0235,  0.0296, -0.0005, -0.0013,  0.0098, -0.0093]],\n",
      "       device='cuda:0', requires_grad=True)] tensor([[0.1000, 0.1000, 0.1000, 0.1000, 0.1000, 0.1000, 0.1000, 0.1000, 0.1000,\n",
      "         0.1000],\n",
      "        [0.1000, 0.1000, 0.1000, 0.1000, 0.1000, 0.1000, 0.1000, 0.1000, 0.1000,\n",
      "         0.1000],\n",
      "        [0.1000, 0.1000, 0.1000, 0.1000, 0.1000, 0.1000, 0.1000, 0.1000, 0.1000,\n",
      "         0.1000],\n",
      "        [0.1000, 0.1000, 0.1000, 0.1000, 0.1000, 0.1000, 0.1000, 0.1000, 0.1000,\n",
      "         0.1000],\n",
      "        [0.1000, 0.1000, 0.1000, 0.1000, 0.1000, 0.1000, 0.1000, 0.1000, 0.1000,\n",
      "         0.1000],\n",
      "        [0.1000, 0.1000, 0.1000, 0.1000, 0.1000, 0.1000, 0.1000, 0.1000, 0.1000,\n",
      "         0.1000],\n",
      "        [0.1000, 0.1000, 0.1000, 0.1000, 0.1000, 0.1000, 0.1000, 0.1000, 0.1000,\n",
      "         0.1000],\n",
      "        [0.1000, 0.1000, 0.1000, 0.1000, 0.1000, 0.1000, 0.1000, 0.1000, 0.1000,\n",
      "         0.1000],\n",
      "        [0.1000, 0.1000, 0.1000, 0.1000, 0.1000, 0.1000, 0.1000, 0.1000, 0.1000,\n",
      "         0.1000],\n",
      "        [0.1000, 0.1000, 0.1000, 0.1000, 0.1000, 0.1000, 0.1000, 0.1000, 0.1000,\n",
      "         0.1000]], device='cuda:0', requires_grad=True)\n"
     ]
    }
   ],
   "source": [
    "import torch\n",
    "res = torch.load(\"cel.pt\")\n",
    "emb_list, weights = res\n",
    "print(emb_list, weights)"
   ]
  },
  {
   "cell_type": "code",
   "execution_count": 13,
   "metadata": {},
   "outputs": [
    {
     "name": "stdout",
     "output_type": "stream",
     "text": [
      "torch.Size([10, 10])\n"
     ]
    }
   ],
   "source": [
    "print(weights.size())"
   ]
  },
  {
   "cell_type": "code",
   "execution_count": 14,
   "metadata": {},
   "outputs": [
    {
     "name": "stdout",
     "output_type": "stream",
     "text": [
      "torch.Size([10, 128])\n"
     ]
    }
   ],
   "source": [
    "\n",
    "x = torch.cat(emb_list, dim=0).squeeze(1)\n",
    "print(x.size())"
   ]
  },
  {
   "cell_type": "code",
   "execution_count": 9,
   "metadata": {},
   "outputs": [],
   "source": [
    "from flcore.servers.serverfedtrans import Attn_Model\n",
    "device = \"cuda:0\"\n",
    "x.to(device)\n",
    "attn_model = Attn_Model().to(device)\n",
    "weights = attn_model(x)"
   ]
  },
  {
   "cell_type": "code",
   "execution_count": 26,
   "metadata": {},
   "outputs": [
    {
     "name": "stdout",
     "output_type": "stream",
     "text": [
      "tensor(0.0204, device='cuda:0')\n"
     ]
    }
   ],
   "source": [
    "psub_res = torch.load(\"psub_res.pth\")\n",
    "def cosine_similarity(a, b):\n",
    "    dot_product = torch.dot(a, b)\n",
    "    norm_a = torch.norm(a)\n",
    "    norm_b = torch.norm(b)\n",
    "    return dot_product / (norm_a * norm_b)\n",
    "\n",
    "print(cosine_similarity(psub_res[1],psub_res[0]))"
   ]
  },
  {
   "cell_type": "code",
   "execution_count": 27,
   "metadata": {},
   "outputs": [
    {
     "name": "stdout",
     "output_type": "stream",
     "text": [
      "torch.Size([10100])\n"
     ]
    }
   ],
   "source": [
    "print(psub_res[0].size())"
   ]
  },
  {
   "cell_type": "code",
   "execution_count": 15,
   "metadata": {},
   "outputs": [],
   "source": [
    "attn_model = torch.load(\"models\\Cifar10\\FedTrans_server_attn.pt\")\n",
    "intra_attn_model = attn_model['intra_attn_model']\n",
    "\n",
    "psub_res = [p.unsqueeze(0) for p in psub_res]\n",
    "\n",
    "x = torch.cat(psub_res, dim=0)"
   ]
  },
  {
   "cell_type": "code",
   "execution_count": 25,
   "metadata": {},
   "outputs": [
    {
     "name": "stdout",
     "output_type": "stream",
     "text": [
      "torch.Size([20, 10100])\n"
     ]
    }
   ],
   "source": [
    "print(x.size())"
   ]
  },
  {
   "cell_type": "code",
   "execution_count": 23,
   "metadata": {},
   "outputs": [],
   "source": [
    "from flcore.servers.serverfedtrans import Attn_Model\n",
    "attn_model2 = Attn_Model()"
   ]
  },
  {
   "cell_type": "code",
   "execution_count": 32,
   "metadata": {},
   "outputs": [
    {
     "name": "stdout",
     "output_type": "stream",
     "text": [
      "Layer: weight, Size: torch.Size([1024, 10100])\n",
      "Layer: bias, Size: torch.Size([1024])\n"
     ]
    }
   ],
   "source": [
    "for name, param in emb_layer.named_parameters():\n",
    "    print(f\"Layer: {name}, Size: {param.size()}\")"
   ]
  },
  {
   "cell_type": "code",
   "execution_count": 31,
   "metadata": {},
   "outputs": [],
   "source": [
    "emb_layer = nn.Linear(x.size(1),intra_attn_model.query.weight.size(0))"
   ]
  },
  {
   "cell_type": "code",
   "execution_count": null,
   "metadata": {},
   "outputs": [],
   "source": [
    "emb_list = [psub for psub in psub_res]"
   ]
  },
  {
   "cell_type": "code",
   "execution_count": null,
   "metadata": {},
   "outputs": [],
   "source": [
    "iter_e, iter_w = res['inter_clusters_res']"
   ]
  },
  {
   "cell_type": "code",
   "execution_count": null,
   "metadata": {},
   "outputs": [],
   "source": [
    "print(iter_e[1].size())\n",
    "\n",
    "x = torch.cat(iter_e, dim=0).squeeze(1)"
   ]
  },
  {
   "cell_type": "code",
   "execution_count": null,
   "metadata": {},
   "outputs": [],
   "source": [
    "print(x)"
   ]
  },
  {
   "cell_type": "code",
   "execution_count": null,
   "metadata": {},
   "outputs": [],
   "source": [
    "import torch\n",
    "from torch import nn\n",
    "\n",
    "class Attn_Model_C(nn.Module):\n",
    "    def __init__(self, emb_dim=128, attn_dim=128, num_heads=8):\n",
    "        super(Attn_Model_C, self).__init__()\n",
    "        self.emb_dim = emb_dim\n",
    "        self.attn_dim = attn_dim\n",
    "        self.query = nn.Linear(emb_dim, attn_dim)\n",
    "        self.key = nn.Linear(emb_dim, attn_dim)\n",
    "        #self.inter_LN = nn.LayerNorm(attn_dim)\n",
    "\n",
    "        # 1-layer attention for simple verify\n",
    "\n",
    "    def forward(self, x, models=None, prev_models=None):\n",
    "        #x = self.inter_LN(x) \n",
    "        q = self.query(x)\n",
    "\n",
    "        k = self.key(x)\n",
    "        print(\"q:{}\\n{}\\nk:{}\".format(q,\"-\"*5,k))\n",
    "        scores = torch.matmul(q, k.transpose(-2, -1)) \n",
    "        #scores = torch.matmul(q, k.transpose(-2, -1)) / (self.attn_dim ** 0.2)\n",
    "        print(scores)\n",
    "        attention_weights = torch.softmax(scores, dim=-1)\n",
    "        return attention_weights"
   ]
  },
  {
   "cell_type": "code",
   "execution_count": null,
   "metadata": {},
   "outputs": [],
   "source": []
  },
  {
   "cell_type": "code",
   "execution_count": null,
   "metadata": {},
   "outputs": [],
   "source": [
    "\n",
    "attn_model_1 = Attn_Model_C().to(device)\n",
    "w = attn_model(x.to(device))\n",
    "\n",
    "print(w)"
   ]
  },
  {
   "cell_type": "code",
   "execution_count": null,
   "metadata": {},
   "outputs": [],
   "source": [
    "for c in res['intra_clusters_res']:\n",
    "    if c is not None:\n",
    "        c_e = c[0]\n",
    "    else:\n",
    "        continue\n",
    "    \n",
    "    x = torch.cat(c_e, dim=0).squeeze(1)\n",
    "    w = attn_model_1(x.to(device))\n",
    "    print(w)"
   ]
  },
  {
   "cell_type": "code",
   "execution_count": null,
   "metadata": {},
   "outputs": [],
   "source": [
    "\n",
    "print(res['intra_clusters_res'][1])"
   ]
  },
  {
   "cell_type": "code",
   "execution_count": null,
   "metadata": {},
   "outputs": [],
   "source": [
    "import torch\n",
    "model = torch.load(\"gm_avg.pt\")"
   ]
  },
  {
   "cell_type": "code",
   "execution_count": null,
   "metadata": {},
   "outputs": [],
   "source": [
    "import copy\n",
    "ps = []\n",
    "param = [p.view(-1) for p in model.parameters()]\n",
    "ps = torch.concat(param, dim=0)"
   ]
  },
  {
   "cell_type": "code",
   "execution_count": null,
   "metadata": {},
   "outputs": [],
   "source": [
    "ps.size()"
   ]
  },
  {
   "cell_type": "code",
   "execution_count": null,
   "metadata": {},
   "outputs": [],
   "source": [
    "ps[0]"
   ]
  },
  {
   "cell_type": "code",
   "execution_count": null,
   "metadata": {},
   "outputs": [],
   "source": []
  },
  {
   "attachments": {},
   "cell_type": "markdown",
   "metadata": {},
   "source": [
    "## 测试attn参数backward"
   ]
  },
  {
   "attachments": {},
   "cell_type": "markdown",
   "metadata": {},
   "source": [
    "#### 开始"
   ]
  },
  {
   "cell_type": "code",
   "execution_count": 1,
   "metadata": {},
   "outputs": [],
   "source": [
    "import torch\n",
    "from torch import nn\n",
    "\n",
    "model1 = torch.nn.Linear(10, 20)\n",
    "model2 = torch.nn.Linear(10, 20)\n",
    "emb_layer = torch.nn.Linear(220, 128)\n",
    "for p_1, p_2 in zip(model1.parameters(), model2.parameters()):\n",
    "    p_1.data += p_2.data\n",
    "loss = nn.MSELoss()"
   ]
  },
  {
   "cell_type": "code",
   "execution_count": 2,
   "metadata": {},
   "outputs": [
    {
     "name": "stdout",
     "output_type": "stream",
     "text": [
      "sd1:OrderedDict([('weight', tensor([[-0.2774, -0.2567, -0.1063,  0.2227,  0.2273, -0.2888, -0.0162, -0.2818,\n",
      "         -0.2191, -0.2335],\n",
      "        [-0.1504, -0.0964,  0.2403,  0.2067, -0.0128, -0.0865,  0.0328,  0.2412,\n",
      "         -0.2551, -0.2395],\n",
      "        [ 0.0140, -0.0507, -0.2754, -0.2450,  0.0605,  0.3154, -0.1677,  0.0574,\n",
      "         -0.0959, -0.1168],\n",
      "        [-0.1130, -0.2067, -0.1491, -0.1524,  0.0207,  0.0843,  0.2871, -0.2830,\n",
      "         -0.1689,  0.2578],\n",
      "        [ 0.1576, -0.0371, -0.0695, -0.2472,  0.2229,  0.1555, -0.1405, -0.1537,\n",
      "         -0.0910,  0.1616],\n",
      "        [-0.0249, -0.2841,  0.2248, -0.2295, -0.1144,  0.1063, -0.2562, -0.0930,\n",
      "         -0.2208,  0.0830],\n",
      "        [ 0.0579, -0.0092,  0.3107,  0.2145,  0.0440,  0.2182, -0.0439,  0.0309,\n",
      "         -0.1744, -0.2256],\n",
      "        [-0.1732, -0.3109,  0.2855,  0.2518,  0.0639, -0.2686, -0.0803,  0.2862,\n",
      "          0.2051, -0.0335],\n",
      "        [-0.0442,  0.0963,  0.0724,  0.1717, -0.0988, -0.2718, -0.0267,  0.0407,\n",
      "          0.3117,  0.0997],\n",
      "        [ 0.2343,  0.0173,  0.3033, -0.1552,  0.2577, -0.1046, -0.2383,  0.0548,\n",
      "         -0.0366, -0.0491],\n",
      "        [ 0.0805, -0.2709,  0.1919,  0.3106, -0.0467,  0.1405,  0.0632,  0.2682,\n",
      "         -0.1752,  0.3035],\n",
      "        [ 0.0702,  0.1735,  0.0859, -0.1146,  0.0361, -0.1928,  0.0696,  0.1944,\n",
      "          0.0252,  0.1878],\n",
      "        [-0.2159, -0.1762,  0.0228,  0.0793, -0.2368,  0.1902,  0.2013, -0.0473,\n",
      "         -0.0893,  0.0676],\n",
      "        [ 0.0301,  0.2460,  0.2494,  0.0079, -0.2433, -0.1876,  0.1123,  0.3156,\n",
      "         -0.0744,  0.1884],\n",
      "        [ 0.1343,  0.1469, -0.2457,  0.0629,  0.0042,  0.2596, -0.1598,  0.3082,\n",
      "         -0.2743,  0.0798],\n",
      "        [ 0.1701,  0.2827, -0.2746,  0.2711,  0.0121, -0.2384,  0.1725, -0.1927,\n",
      "         -0.2032, -0.1528],\n",
      "        [ 0.2806,  0.1844, -0.0546,  0.2081, -0.0486, -0.0095, -0.1124, -0.3065,\n",
      "         -0.1977,  0.0735],\n",
      "        [ 0.2261, -0.1868,  0.0040, -0.1239,  0.0069,  0.2864,  0.2168,  0.0582,\n",
      "          0.1938,  0.0862],\n",
      "        [-0.2154,  0.2840, -0.0557, -0.3088, -0.1709, -0.0021,  0.0488,  0.3160,\n",
      "         -0.1526, -0.2648],\n",
      "        [-0.1226, -0.1405,  0.1336,  0.0537,  0.0047, -0.0874,  0.1435,  0.0455,\n",
      "          0.1026,  0.1128]])), ('bias', tensor([-0.2965,  0.0474, -0.2738,  0.0367,  0.1664, -0.2710, -0.2690, -0.1954,\n",
      "         0.1785,  0.0552,  0.0343,  0.1486, -0.0665, -0.0024,  0.1734, -0.0132,\n",
      "         0.0554, -0.1333, -0.0825, -0.0623]))])\n",
      "sd3:OrderedDict([('weight', tensor([[-0.2774, -0.2567, -0.1063,  0.2227,  0.2273, -0.2888, -0.0162, -0.2818,\n",
      "         -0.2191, -0.2335],\n",
      "        [-0.1504, -0.0964,  0.2403,  0.2067, -0.0128, -0.0865,  0.0328,  0.2412,\n",
      "         -0.2551, -0.2395],\n",
      "        [ 0.0140, -0.0507, -0.2754, -0.2450,  0.0605,  0.3154, -0.1677,  0.0574,\n",
      "         -0.0959, -0.1168],\n",
      "        [-0.1130, -0.2067, -0.1491, -0.1524,  0.0207,  0.0843,  0.2871, -0.2830,\n",
      "         -0.1689,  0.2578],\n",
      "        [ 0.1576, -0.0371, -0.0695, -0.2472,  0.2229,  0.1555, -0.1405, -0.1537,\n",
      "         -0.0910,  0.1616],\n",
      "        [-0.0249, -0.2841,  0.2248, -0.2295, -0.1144,  0.1063, -0.2562, -0.0930,\n",
      "         -0.2208,  0.0830],\n",
      "        [ 0.0579, -0.0092,  0.3107,  0.2145,  0.0440,  0.2182, -0.0439,  0.0309,\n",
      "         -0.1744, -0.2256],\n",
      "        [-0.1732, -0.3109,  0.2855,  0.2518,  0.0639, -0.2686, -0.0803,  0.2862,\n",
      "          0.2051, -0.0335],\n",
      "        [-0.0442,  0.0963,  0.0724,  0.1717, -0.0988, -0.2718, -0.0267,  0.0407,\n",
      "          0.3117,  0.0997],\n",
      "        [ 0.2343,  0.0173,  0.3033, -0.1552,  0.2577, -0.1046, -0.2383,  0.0548,\n",
      "         -0.0366, -0.0491],\n",
      "        [ 0.0805, -0.2709,  0.1919,  0.3106, -0.0467,  0.1405,  0.0632,  0.2682,\n",
      "         -0.1752,  0.3035],\n",
      "        [ 0.0702,  0.1735,  0.0859, -0.1146,  0.0361, -0.1928,  0.0696,  0.1944,\n",
      "          0.0252,  0.1878],\n",
      "        [-0.2159, -0.1762,  0.0228,  0.0793, -0.2368,  0.1902,  0.2013, -0.0473,\n",
      "         -0.0893,  0.0676],\n",
      "        [ 0.0301,  0.2460,  0.2494,  0.0079, -0.2433, -0.1876,  0.1123,  0.3156,\n",
      "         -0.0744,  0.1884],\n",
      "        [ 0.1343,  0.1469, -0.2457,  0.0629,  0.0042,  0.2596, -0.1598,  0.3082,\n",
      "         -0.2743,  0.0798],\n",
      "        [ 0.1701,  0.2827, -0.2746,  0.2711,  0.0121, -0.2384,  0.1725, -0.1927,\n",
      "         -0.2032, -0.1528],\n",
      "        [ 0.2806,  0.1844, -0.0546,  0.2081, -0.0486, -0.0095, -0.1124, -0.3065,\n",
      "         -0.1977,  0.0735],\n",
      "        [ 0.2261, -0.1868,  0.0040, -0.1239,  0.0069,  0.2864,  0.2168,  0.0582,\n",
      "          0.1938,  0.0862],\n",
      "        [-0.2154,  0.2840, -0.0557, -0.3088, -0.1709, -0.0021,  0.0488,  0.3160,\n",
      "         -0.1526, -0.2648],\n",
      "        [-0.1226, -0.1405,  0.1336,  0.0537,  0.0047, -0.0874,  0.1435,  0.0455,\n",
      "          0.1026,  0.1128]])), ('bias', tensor([-0.2965,  0.0474, -0.2738,  0.0367,  0.1664, -0.2710, -0.2690, -0.1954,\n",
      "         0.1785,  0.0552,  0.0343,  0.1486, -0.0665, -0.0024,  0.1734, -0.0132,\n",
      "         0.0554, -0.1333, -0.0825, -0.0623]))])\n"
     ]
    }
   ],
   "source": [
    "from collections import OrderedDict\n",
    "\n",
    "model1 = torch.nn.Linear(10, 20)\n",
    "model2 = torch.nn.Linear(10, 20)\n",
    "sd1 = model1.state_dict()\n",
    "sd2 = model2.state_dict()\n",
    "sd3 = OrderedDict()\n",
    "for name, param in model1.named_parameters():\n",
    "    sd3[name] = param.data.clone()\n",
    "print(\"sd1:{}\\nsd3:{}\".format(sd1,sd3))\n",
    "#for name, param in model1.named_parameters():\n",
    "#    sd2[name] = param.data\n"
   ]
  },
  {
   "cell_type": "code",
   "execution_count": null,
   "metadata": {},
   "outputs": [],
   "source": [
    "class Attn_Model(nn.Module):\n",
    "    def __init__(self, emb_dim=128, attn_dim=128, num_heads=8):\n",
    "        super(Attn_Model, self).__init__()\n",
    "        self.emb_dim = emb_dim\n",
    "        self.attn_dim = attn_dim\n",
    "        self.query = nn.Linear(emb_dim, attn_dim)\n",
    "        self.key = nn.Linear(emb_dim, attn_dim)\n",
    "        #self.inter_LN = nn.LayerNorm(attn_dim)\n",
    "\n",
    "        # 1-layer attention for simple verify\n",
    "\n",
    "    def forward(self, x, models=None, prev_models=None):\n",
    "        #x = self.inter_LN(x) \n",
    "        q = self.query(x)\n",
    "        k = self.key(x)\n",
    "\n",
    "        scores = torch.matmul(q, k.transpose(-2, -1)) \n",
    "\n",
    "        #scaled coef removed since we want to diff weight matrix entries\n",
    "        #scores = torch.matmul(q, k.transpose(-2, -1)) / (self.attn_dim ** 0.5)\n",
    "        attention_weights = torch.softmax(scores, dim=-1)\n",
    "        return attention_weights"
   ]
  },
  {
   "cell_type": "code",
   "execution_count": null,
   "metadata": {},
   "outputs": [],
   "source": [
    "\n",
    "import copy\n",
    "\n",
    "##\n",
    "def w_add_params(global_model, m_weights, models_params, require_grad=False):\n",
    "    params = [] \n",
    "    res = copy.deepcopy(global_model)\n",
    "    for param in res.parameters():\n",
    "        param.data.zero_()\n",
    "            \n",
    "    for w, model_params in zip(m_weights, models_params):\n",
    "        for res_param, model_param in zip(res.parameters(), model_params):\n",
    "            if require_grad:\n",
    "                res_param.grad += model_param.grad.clone().detach() * w\n",
    "            res_param.data += model_param.data.clone().detach() * w\n",
    "    return res\n",
    "        \n",
    "        \n",
    "\n",
    "def emb(phead,emb_layer):\n",
    "    params = []\n",
    "    for p in phead.parameters():\n",
    "        params.append(p.flatten())\n",
    "    params = torch.cat(params)\n",
    "    return emb_layer(params)\n",
    "\n",
    "\n",
    "def weight_flatten(model):\n",
    "    params = []\n",
    "    for u in model.parameters():\n",
    "        params.append(u.view(-1))\n",
    "    params = torch.cat(params)\n",
    "\n",
    "    return params"
   ]
  },
  {
   "attachments": {},
   "cell_type": "markdown",
   "metadata": {},
   "source": [
    "### 创建模型以及计算weighted sum"
   ]
  },
  {
   "cell_type": "code",
   "execution_count": null,
   "metadata": {},
   "outputs": [],
   "source": [
    "models = [nn.Linear(10,20) for i in range(10)]\n",
    "flatten_models = [weight_flatten(model) for model in models]\n",
    "emb_layer = nn.Linear(len(flatten_models[0]), 128)\n",
    "models_emb = [emb(model, emb_layer) for model in models]\n"
   ]
  },
  {
   "cell_type": "code",
   "execution_count": null,
   "metadata": {},
   "outputs": [],
   "source": [
    "x = torch.cat([e.reshape(1,-1) for e in models_emb], dim=0)\n",
    "print(x.size())"
   ]
  },
  {
   "cell_type": "code",
   "execution_count": null,
   "metadata": {},
   "outputs": [],
   "source": [
    "attn_model = Attn_Model()\n",
    "\n",
    "weights = attn_model(x)\n",
    "print(weights)"
   ]
  },
  {
   "attachments": {},
   "cell_type": "markdown",
   "metadata": {},
   "source": [
    "#### 暂时关闭"
   ]
  },
  {
   "cell_type": "code",
   "execution_count": null,
   "metadata": {},
   "outputs": [],
   "source": [
    "new_ms = []\n",
    "for i in range(weights.size()[0]):\n",
    "    w = [weights[i][j] for j in range(weights[i].size()[0])]\n",
    "    sd = copy.deepcopy(models[i].state_dict())\n",
    "    new_m = w_add_parameters(models[0], w, [model for model in models])\n",
    "    new_ms.append(new_m)\n",
    "print(len(new_ms))"
   ]
  },
  {
   "cell_type": "code",
   "execution_count": null,
   "metadata": {},
   "outputs": [],
   "source": [
    "vecs = nn.utils.parameters_to_vector(models[0].parameters())\n"
   ]
  },
  {
   "attachments": {},
   "cell_type": "markdown",
   "metadata": {},
   "source": [
    "### 更新模型"
   ]
  },
  {
   "attachments": {},
   "cell_type": "markdown",
   "metadata": {},
   "source": [
    "#### 暂时关闭"
   ]
  },
  {
   "cell_type": "code",
   "execution_count": null,
   "metadata": {},
   "outputs": [],
   "source": [
    "from collections import defaultdict, OrderedDict"
   ]
  },
  {
   "cell_type": "code",
   "execution_count": null,
   "metadata": {},
   "outputs": [],
   "source": [
    "\n",
    "models = new_ms\n",
    "inner_optimizers = [torch.optim.SGD(models[i].parameters(),\\\n",
    "                                lr=0.005) for i in range(10)]\n",
    "inner_states = [copy.deepcopy(m.state_dict()) for m in models]\n",
    "\n",
    "for i in range(10):\n",
    "    #one-step local training\n",
    "    inp = torch.rand([10])\n",
    "    y = torch.rand([20])\n",
    "    mseloss = torch.nn.MSELoss()\n",
    "    #print(\"prev_model:{}\".format(nn.utils.parameters_to_vector(models[i].parameters())))\n",
    "    output = models[i](inp)\n",
    "    loss = mseloss(output, y)\n",
    "    loss.backward()\n",
    "    inner_optimizers[i].step()\n",
    "    #print(\"cur_model:{}\".format(nn.utils.parameters_to_vector(models[0].parameters())))\n",
    "final_states = [m.state_dict() for m in models]\n",
    "delta_thetas = [OrderedDict({k: inner_states[i][k] - final_states[i][k] for k in models[i].state_dict().keys()}) for i in range(10)]"
   ]
  },
  {
   "cell_type": "markdown",
   "metadata": {},
   "source": [
    "#### 测试模型参数修改函数"
   ]
  },
  {
   "cell_type": "code",
   "execution_count": null,
   "metadata": {},
   "outputs": [],
   "source": [
    "from collections import OrderedDict\n",
    "model = models[0]\n",
    "# 我想修改的模型state\n",
    "sd = model.state_dict()\n",
    "w = weights[0]\n",
    "# 用一个带grad的weight去aggregate模型参数\n",
    "# 把参数放回state，保存带梯度的参数到另外一个list，用于梯度计算\n",
    "print(sd)\n",
    "\n",
    "def w_add_parameters(sd, w, models):\n",
    "    sg = OrderedDict()\n",
    "    for w_i, model in zip(w, models):\n",
    "        for key in sd.keys():\n",
    "            if key not in sg.keys():\n",
    "                sg[key] = w_i * model.state_dict()[key]\n",
    "            else:\n",
    "                sg[key] = sg[key] + w_i * model.state_dict()[key]\n",
    "            print(sg)\n",
    "            sd[key] = sd[key] + sg[key].data\n",
    "    return sg, sd\n",
    "sg, sd = w_add_parameters(sd, w, models)\n",
    "\n"
   ]
  },
  {
   "attachments": {},
   "cell_type": "markdown",
   "metadata": {},
   "source": [
    "#### 更新模型"
   ]
  },
  {
   "cell_type": "code",
   "execution_count": null,
   "metadata": {},
   "outputs": [],
   "source": [
    "\n",
    "#model = models[0]\n",
    "## 我想修改的模型state\n",
    "#sd = model.state_dict()\n",
    "#w = weights[0]\n",
    "## 用一个带grad的weight去aggregate模型参数\n",
    "## 把参数放回state，保存带梯度的参数到另外一个list，用于梯度计算\n",
    "\n",
    "#sg, sd = w_add_parameters(sd, w, models)\n",
    "\n",
    "inner_state = sd\n",
    "nm = nn.Linear(10,20)\n",
    "nm.load_state_dict(sd)\n",
    "inner_optimizer = torch.optim.SGD(nm.parameters(),lr=0.05)\n",
    "inner_state = copy.deepcopy(nm.state_dict())\n",
    "for _ in range(10):\n",
    "    inp = torch.rand([10])\n",
    "    y = torch.rand([20])\n",
    "    mseloss = torch.nn.MSELoss()\n",
    "    #print(\"prev_model:{}\".format(nn.utils.parameters_to_vector(models[i].parameters())))\n",
    "    output = nm(inp)\n",
    "    loss = mseloss(output, y)\n",
    "    loss.backward()\n",
    "    inner_optimizer.step()\n",
    "final_state = nm.state_dict()\n",
    "delta_theta = OrderedDict({k:inner_state[k]-final_state[k] for k in nm.state_dict().keys()})\n",
    "\n",
    "lv = list(sg.values())\n",
    "param_list = list(attn_model.parameters())\n",
    "param_list.extend(emb_layer.parameters())\n",
    "params_grads = torch.autograd.grad(lv,param_list,grad_outputs=list(delta_theta.values()),retain_graph=True)"
   ]
  },
  {
   "cell_type": "code",
   "execution_count": null,
   "metadata": {},
   "outputs": [],
   "source": [
    "at_state = copy.deepcopy(attn_model.state_dict())\n",
    "emb_state = copy.deepcopy(emb_layer.state_dict())"
   ]
  },
  {
   "cell_type": "code",
   "execution_count": null,
   "metadata": {},
   "outputs": [],
   "source": [
    "\n",
    "at_state_1 = copy.deepcopy(attn_model.state_dict())\n",
    "emb_state_1 = copy.deepcopy(emb_layer.state_dict())"
   ]
  },
  {
   "cell_type": "code",
   "execution_count": null,
   "metadata": {},
   "outputs": [],
   "source": [
    "lr = 0.05\n",
    "optimizer = torch.optim.SGD(\n",
    "            [\n",
    "                {'params': [p for p in param_list]},\n",
    "            ], lr=lr, momentum=0.9\n",
    "        )\n",
    "for p, g in zip(param_list, params_grads):\n",
    "            p.grad = g\n",
    "torch.nn.utils.clip_grad_norm_(param_list, 50)\n",
    "\n",
    "optimizer.step()"
   ]
  },
  {
   "cell_type": "code",
   "execution_count": null,
   "metadata": {},
   "outputs": [],
   "source": [
    "for p in param_list:\n",
    "    print(p)"
   ]
  },
  {
   "cell_type": "code",
   "execution_count": null,
   "metadata": {},
   "outputs": [],
   "source": [
    "inner_optimizer = torch.optim.SGD(nm.parameters(),lr=0.05)\n",
    "inner_state = copy.deepcopy(nm.state_dict())\n",
    "print(inner_state)\n",
    "torch.autograd.set_detect_anomaly(True)\n",
    "for _ in range(10):\n",
    "    inp = torch.rand([10])\n",
    "    y = torch.rand([20])\n",
    "    mseloss = torch.nn.MSELoss()\n",
    "    #print(\"prev_model:{}\".format(nn.utils.parameters_to_vector(models[i].parameters())))\n",
    "    output = nm(inp)\n",
    "    loss = mseloss(output, y)\n",
    "    loss.backward()\n",
    "    inner_optimizer.step()\n",
    "final_state = nm.state_dict()\n",
    "delta_theta = OrderedDict({k:inner_state[k]-final_state[k] for k in nm.state_dict().keys()})"
   ]
  },
  {
   "cell_type": "code",
   "execution_count": null,
   "metadata": {},
   "outputs": [],
   "source": [
    "print(inner_state)"
   ]
  },
  {
   "attachments": {},
   "cell_type": "markdown",
   "metadata": {},
   "source": [
    "### 计算JVP\n"
   ]
  },
  {
   "cell_type": "code",
   "execution_count": null,
   "metadata": {},
   "outputs": [],
   "source": [
    "lr = 0.01\n",
    "attn_optimizer = torch.optim.SGD(\n",
    "    [\n",
    "        {'params' : [p for p in attn_model.parameters()]} ,\n",
    "        {'params' : [p for p in emb_layer.parameters()]}\n",
    "    ], lr=lr, momentum=0.9)\n",
    "\n",
    "param_list = list(attn_model.parameters())\n",
    "param_list.extend(emb_layer.parameters())\n",
    "attn_optimizer.zero_grad()"
   ]
  },
  {
   "cell_type": "code",
   "execution_count": null,
   "metadata": {},
   "outputs": [],
   "source": [
    "grads = [\n",
    "            torch.autograd.grad([p for p in model.parameters()], param_list , grad_outputs=list(delta_theta.values()))\\\n",
    "            for model, delta_theta in zip(models,delta_thetas)\n",
    "        ]      \n",
    "for grad in grads:\n",
    "    for param, g in zip(param_list, grad):\n",
    "        param.grad += grad \n",
    "\n",
    "torch.nn.utils.clip_grad_norm_(param_list, 50)\n",
    "attn_optimizer.step()"
   ]
  },
  {
   "cell_type": "code",
   "execution_count": null,
   "metadata": {},
   "outputs": [],
   "source": [
    "inner_states = model[0]\n",
    "final_states = .state_dict()\n",
    "\n",
    "# calculating delta theta\n",
    "delta_theta = OrderedDict({k: inner_state[k] - final_state[k] for k in weights.keys()})\n",
    "\n",
    "# calculating phi gradient\n",
    "hnet_grads = torch.autograd.grad(\n",
    "    list(weights.values()), hnet.parameters(), grad_outputs=list(delta_theta.values())\n",
    ")\n",
    "\n",
    "print(torch.cat(g_1,dim=0).reshape(-1,1))"
   ]
  },
  {
   "cell_type": "code",
   "execution_count": null,
   "metadata": {},
   "outputs": [],
   "source": [
    "print(models[0].state_dict().values())"
   ]
  },
  {
   "cell_type": "code",
   "execution_count": null,
   "metadata": {},
   "outputs": [],
   "source": [
    "mo = nn.Linear(10,20)\n",
    "mo.load_state_dict(new_ms[0].state_dict())\n",
    "print(mo)"
   ]
  },
  {
   "cell_type": "code",
   "execution_count": null,
   "metadata": {},
   "outputs": [],
   "source": [
    "for p in mo.parameters():\n",
    "    print(p)"
   ]
  },
  {
   "cell_type": "code",
   "execution_count": null,
   "metadata": {},
   "outputs": [],
   "source": [
    "import random\n",
    "import copy\n",
    "res = copy.deepcopy(model1)\n",
    "for param in res.parameters():\n",
    "    param.data.zero_()\n",
    "\n",
    "for rp, p in zip(res.parameters(), model1.parameters()):\n",
    "    rp.data += p.data.clone()\n",
    "    \n",
    "\n",
    "print(res)"
   ]
  },
  {
   "cell_type": "code",
   "execution_count": null,
   "metadata": {},
   "outputs": [],
   "source": [
    "\n",
    "res.clone().detach().requires_grad_(True)"
   ]
  },
  {
   "cell_type": "code",
   "execution_count": 1,
   "metadata": {},
   "outputs": [
    {
     "name": "stdout",
     "output_type": "stream",
     "text": [
      "../data/mnist\n"
     ]
    }
   ],
   "source": [
    "stri = \"../data\\\\mnist\"\n",
    "stri = stri.replace(\"\\\\\",\"/\")\n",
    "print(stri)"
   ]
  },
  {
   "cell_type": "code",
   "execution_count": null,
   "metadata": {},
   "outputs": [],
   "source": [
    "import torch\n",
    "\n",
    "torch.optim.Adam()"
   ]
  },
  {
   "cell_type": "code",
   "execution_count": 12,
   "metadata": {},
   "outputs": [],
   "source": [
    "import wandb\n",
    "api = wandb.Api()\n",
    "run = api.run(\"gerid/fedtrans_exp/t1zr3o00\")\n",
    "max = 0\n",
    "std = 0\n",
    "for i, row in run.history().iterrows():\n",
    "    if max < row[\"test_acc\"]:\n",
    "        max = row[\"test_acc\"]\n",
    "        std = row[\"std_acc\"]\n",
    "         "
   ]
  },
  {
   "cell_type": "code",
   "execution_count": 13,
   "metadata": {},
   "outputs": [
    {
     "name": "stdout",
     "output_type": "stream",
     "text": [
      "0.7753406447324692 0.054822986927199446\n"
     ]
    },
    {
     "ename": "",
     "evalue": "",
     "output_type": "error",
     "traceback": [
      "\u001b[1;31m在当前单元格或上一个单元格中执行代码时 Kernel 崩溃。请查看单元格中的代码，以确定故障的可能原因。有关详细信息，请单击 <a href='https://aka.ms/vscodeJupyterKernelCrash'>此处</a>。有关更多详细信息，请查看 Jupyter <a href='command:jupyter.viewOutput'>log</a>。"
     ]
    }
   ],
   "source": [
    "print(max,std)"
   ]
  },
  {
   "cell_type": "code",
   "execution_count": 1,
   "metadata": {},
   "outputs": [
    {
     "name": "stdout",
     "output_type": "stream",
     "text": [
      "torch.Size([20, 32, 512])\n"
     ]
    },
    {
     "ename": "",
     "evalue": "",
     "output_type": "error",
     "traceback": [
      "\u001b[1;31m在当前单元格或上一个单元格中执行代码时 Kernel 崩溃。请查看单元格中的代码，以确定故障的可能原因。有关详细信息，请单击 <a href='https://aka.ms/vscodeJupyterKernelCrash'>此处</a>。有关更多详细信息，请查看 Jupyter <a href='command:jupyter.viewOutput'>log</a>。"
     ]
    }
   ],
   "source": [
    "import torch\n",
    "import torch.nn as nn\n",
    "import torch.nn.functional as F\n",
    "\n",
    "class MultiHeadAttention(nn.Module):\n",
    "    def __init__(self, d_model, num_heads):\n",
    "        super(MultiHeadAttention, self).__init__()\n",
    "        self.q_linear = nn.Linear(d_model, d_model)\n",
    "        self.k_linear = nn.Linear(d_model, d_model)\n",
    "        self.v_linear = nn.Linear(d_model, d_model)\n",
    "        self.num_heads = num_heads\n",
    "        self.attention = nn.MultiheadAttention(d_model, num_heads)\n",
    "        self.fc_out = nn.Linear(d_model, d_model)\n",
    "\n",
    "    def forward(self, query, key, value, mask=None):\n",
    "        Q = self.q_linear(query)\n",
    "        K = self.k_linear(key)\n",
    "        V = self.v_linear(value)\n",
    "        out, _ = self.attention(Q, K, V, attn_mask=mask)\n",
    "        out = self.fc_out(out)\n",
    "        return out\n",
    "\n",
    "class FeedForwardNetwork(nn.Module):\n",
    "    def __init__(self, d_model, d_ff):\n",
    "        super(FeedForwardNetwork, self).__init__()\n",
    "        self.fc1 = nn.Linear(d_model, d_ff)\n",
    "        self.fc2 = nn.Linear(d_ff, d_model)\n",
    "\n",
    "    def forward(self, x):\n",
    "        x = self.fc1(x)\n",
    "        x = F.relu(x)\n",
    "        x = self.fc2(x)\n",
    "        return x\n",
    "\n",
    "class EncoderLayer(nn.Module):\n",
    "    def __init__(self, d_model, num_heads, d_ff):\n",
    "        super(EncoderLayer, self).__init__()\n",
    "        self.attention = MultiHeadAttention(d_model, num_heads)\n",
    "        self.feed_forward = FeedForwardNetwork(d_model, d_ff)\n",
    "\n",
    "    def forward(self, x, mask=None):\n",
    "        attn_output = self.attention(x, x, x, mask)\n",
    "        x = x + attn_output\n",
    "        ff_output = self.feed_forward(x)\n",
    "        x = x + ff_output\n",
    "        return x\n",
    "\n",
    "class DecoderLayer(nn.Module):\n",
    "    def __init__(self, d_model, num_heads, d_ff):\n",
    "        super(DecoderLayer, self).__init__()\n",
    "        self.attention = MultiHeadAttention(d_model, num_heads)\n",
    "        self.feed_forward = FeedForwardNetwork(d_model, d_ff)\n",
    "\n",
    "    def forward(self, x, enc_out, mask=None):\n",
    "        attn_output = self.attention(x, x, x, mask)\n",
    "        x = x + attn_output\n",
    "        attn_output = self.attention(x, enc_out, enc_out)\n",
    "        x = x + attn_output\n",
    "        ff_output = self.feed_forward(x)\n",
    "        x = x + ff_output\n",
    "        return x\n",
    "\n",
    "class Transformer(nn.Module):\n",
    "    def __init__(self, d_model, num_heads, d_ff, num_encoder_layers, num_decoder_layers):\n",
    "        super(Transformer, self).__init__()\n",
    "        self.encoder = nn.ModuleList([EncoderLayer(d_model, num_heads, d_ff) for _ in range(num_encoder_layers)])\n",
    "        self.decoder = nn.ModuleList([DecoderLayer(d_model, num_heads, d_ff) for _ in range(num_decoder_layers)])\n",
    "\n",
    "    def forward(self, src, tgt, src_mask=None, tgt_mask=None):\n",
    "        for layer in self.encoder:\n",
    "            src = layer(src, src_mask)\n",
    "        for layer in self.decoder:\n",
    "            tgt = layer(tgt, src, tgt_mask)\n",
    "        return tgt\n",
    "\n",
    "# Example usage:\n",
    "d_model = 512\n",
    "num_heads = 8\n",
    "d_ff = 2048\n",
    "num_encoder_layers = 3\n",
    "num_decoder_layers = 3\n",
    "\n",
    "transformer = Transformer(d_model, num_heads, d_ff, num_encoder_layers, num_decoder_layers)\n",
    "\n",
    "# Dummy data\n",
    "src = torch.rand((10, 32, d_model))  # (seq_len, batch, d_model)\n",
    "tgt = torch.rand((20, 32, d_model))  # (seq_len, batch, d_model)\n",
    "\n",
    "out = transformer(src, tgt)\n",
    "print(out.shape)  # Should be torch.Size([20, 32, 512])"
   ]
  },
  {
   "cell_type": "code",
   "execution_count": 2,
   "metadata": {},
   "outputs": [
    {
     "ename": "ValueError",
     "evalue": "x and y must have same first dimension, but have shapes (1000,) and (990,)",
     "output_type": "error",
     "traceback": [
      "\u001b[1;31m---------------------------------------------------------------------------\u001b[0m",
      "\u001b[1;31mValueError\u001b[0m                                Traceback (most recent call last)",
      "\u001b[1;32m~\\AppData\\Local\\Temp/ipykernel_37664/2121038954.py\u001b[0m in \u001b[0;36m<module>\u001b[1;34m\u001b[0m\n\u001b[0;32m     28\u001b[0m \u001b[0mplt\u001b[0m\u001b[1;33m.\u001b[0m\u001b[0mfigure\u001b[0m\u001b[1;33m(\u001b[0m\u001b[1;33m)\u001b[0m\u001b[1;33m\u001b[0m\u001b[1;33m\u001b[0m\u001b[0m\n\u001b[0;32m     29\u001b[0m \u001b[0mplt\u001b[0m\u001b[1;33m.\u001b[0m\u001b[0mscatter\u001b[0m\u001b[1;33m(\u001b[0m\u001b[0mx\u001b[0m\u001b[1;33m,\u001b[0m \u001b[0my\u001b[0m\u001b[1;33m,\u001b[0m \u001b[0mlabel\u001b[0m\u001b[1;33m=\u001b[0m\u001b[1;34m'Original Points'\u001b[0m\u001b[1;33m)\u001b[0m\u001b[1;33m\u001b[0m\u001b[1;33m\u001b[0m\u001b[0m\n\u001b[1;32m---> 30\u001b[1;33m \u001b[0mplt\u001b[0m\u001b[1;33m.\u001b[0m\u001b[0mplot\u001b[0m\u001b[1;33m(\u001b[0m\u001b[0mx_new\u001b[0m\u001b[1;33m,\u001b[0m \u001b[0my_new\u001b[0m\u001b[1;33m,\u001b[0m \u001b[0mlabel\u001b[0m\u001b[1;33m=\u001b[0m\u001b[1;34m'Interpolated Points'\u001b[0m\u001b[1;33m)\u001b[0m\u001b[1;33m\u001b[0m\u001b[1;33m\u001b[0m\u001b[0m\n\u001b[0m\u001b[0;32m     31\u001b[0m \u001b[0mplt\u001b[0m\u001b[1;33m.\u001b[0m\u001b[0mlegend\u001b[0m\u001b[1;33m(\u001b[0m\u001b[1;33m)\u001b[0m\u001b[1;33m\u001b[0m\u001b[1;33m\u001b[0m\u001b[0m\n\u001b[0;32m     32\u001b[0m \u001b[0mplt\u001b[0m\u001b[1;33m.\u001b[0m\u001b[0mshow\u001b[0m\u001b[1;33m(\u001b[0m\u001b[1;33m)\u001b[0m\u001b[1;33m\u001b[0m\u001b[1;33m\u001b[0m\u001b[0m\n",
      "\u001b[1;32mc:\\Users\\MSI\\miniconda3\\envs\\d2l\\lib\\site-packages\\matplotlib\\pyplot.py\u001b[0m in \u001b[0;36mplot\u001b[1;34m(scalex, scaley, data, *args, **kwargs)\u001b[0m\n\u001b[0;32m   3017\u001b[0m \u001b[1;33m@\u001b[0m\u001b[0m_copy_docstring_and_deprecators\u001b[0m\u001b[1;33m(\u001b[0m\u001b[0mAxes\u001b[0m\u001b[1;33m.\u001b[0m\u001b[0mplot\u001b[0m\u001b[1;33m)\u001b[0m\u001b[1;33m\u001b[0m\u001b[1;33m\u001b[0m\u001b[0m\n\u001b[0;32m   3018\u001b[0m \u001b[1;32mdef\u001b[0m \u001b[0mplot\u001b[0m\u001b[1;33m(\u001b[0m\u001b[1;33m*\u001b[0m\u001b[0margs\u001b[0m\u001b[1;33m,\u001b[0m \u001b[0mscalex\u001b[0m\u001b[1;33m=\u001b[0m\u001b[1;32mTrue\u001b[0m\u001b[1;33m,\u001b[0m \u001b[0mscaley\u001b[0m\u001b[1;33m=\u001b[0m\u001b[1;32mTrue\u001b[0m\u001b[1;33m,\u001b[0m \u001b[0mdata\u001b[0m\u001b[1;33m=\u001b[0m\u001b[1;32mNone\u001b[0m\u001b[1;33m,\u001b[0m \u001b[1;33m**\u001b[0m\u001b[0mkwargs\u001b[0m\u001b[1;33m)\u001b[0m\u001b[1;33m:\u001b[0m\u001b[1;33m\u001b[0m\u001b[1;33m\u001b[0m\u001b[0m\n\u001b[1;32m-> 3019\u001b[1;33m     return gca().plot(\n\u001b[0m\u001b[0;32m   3020\u001b[0m         \u001b[1;33m*\u001b[0m\u001b[0margs\u001b[0m\u001b[1;33m,\u001b[0m \u001b[0mscalex\u001b[0m\u001b[1;33m=\u001b[0m\u001b[0mscalex\u001b[0m\u001b[1;33m,\u001b[0m \u001b[0mscaley\u001b[0m\u001b[1;33m=\u001b[0m\u001b[0mscaley\u001b[0m\u001b[1;33m,\u001b[0m\u001b[1;33m\u001b[0m\u001b[1;33m\u001b[0m\u001b[0m\n\u001b[0;32m   3021\u001b[0m         **({\"data\": data} if data is not None else {}), **kwargs)\n",
      "\u001b[1;32mc:\\Users\\MSI\\miniconda3\\envs\\d2l\\lib\\site-packages\\matplotlib\\axes\\_axes.py\u001b[0m in \u001b[0;36mplot\u001b[1;34m(self, scalex, scaley, data, *args, **kwargs)\u001b[0m\n\u001b[0;32m   1603\u001b[0m         \"\"\"\n\u001b[0;32m   1604\u001b[0m         \u001b[0mkwargs\u001b[0m \u001b[1;33m=\u001b[0m \u001b[0mcbook\u001b[0m\u001b[1;33m.\u001b[0m\u001b[0mnormalize_kwargs\u001b[0m\u001b[1;33m(\u001b[0m\u001b[0mkwargs\u001b[0m\u001b[1;33m,\u001b[0m \u001b[0mmlines\u001b[0m\u001b[1;33m.\u001b[0m\u001b[0mLine2D\u001b[0m\u001b[1;33m)\u001b[0m\u001b[1;33m\u001b[0m\u001b[1;33m\u001b[0m\u001b[0m\n\u001b[1;32m-> 1605\u001b[1;33m         \u001b[0mlines\u001b[0m \u001b[1;33m=\u001b[0m \u001b[1;33m[\u001b[0m\u001b[1;33m*\u001b[0m\u001b[0mself\u001b[0m\u001b[1;33m.\u001b[0m\u001b[0m_get_lines\u001b[0m\u001b[1;33m(\u001b[0m\u001b[1;33m*\u001b[0m\u001b[0margs\u001b[0m\u001b[1;33m,\u001b[0m \u001b[0mdata\u001b[0m\u001b[1;33m=\u001b[0m\u001b[0mdata\u001b[0m\u001b[1;33m,\u001b[0m \u001b[1;33m**\u001b[0m\u001b[0mkwargs\u001b[0m\u001b[1;33m)\u001b[0m\u001b[1;33m]\u001b[0m\u001b[1;33m\u001b[0m\u001b[1;33m\u001b[0m\u001b[0m\n\u001b[0m\u001b[0;32m   1606\u001b[0m         \u001b[1;32mfor\u001b[0m \u001b[0mline\u001b[0m \u001b[1;32min\u001b[0m \u001b[0mlines\u001b[0m\u001b[1;33m:\u001b[0m\u001b[1;33m\u001b[0m\u001b[1;33m\u001b[0m\u001b[0m\n\u001b[0;32m   1607\u001b[0m             \u001b[0mself\u001b[0m\u001b[1;33m.\u001b[0m\u001b[0madd_line\u001b[0m\u001b[1;33m(\u001b[0m\u001b[0mline\u001b[0m\u001b[1;33m)\u001b[0m\u001b[1;33m\u001b[0m\u001b[1;33m\u001b[0m\u001b[0m\n",
      "\u001b[1;32mc:\\Users\\MSI\\miniconda3\\envs\\d2l\\lib\\site-packages\\matplotlib\\axes\\_base.py\u001b[0m in \u001b[0;36m__call__\u001b[1;34m(self, data, *args, **kwargs)\u001b[0m\n\u001b[0;32m    313\u001b[0m                 \u001b[0mthis\u001b[0m \u001b[1;33m+=\u001b[0m \u001b[0margs\u001b[0m\u001b[1;33m[\u001b[0m\u001b[1;36m0\u001b[0m\u001b[1;33m]\u001b[0m\u001b[1;33m,\u001b[0m\u001b[1;33m\u001b[0m\u001b[1;33m\u001b[0m\u001b[0m\n\u001b[0;32m    314\u001b[0m                 \u001b[0margs\u001b[0m \u001b[1;33m=\u001b[0m \u001b[0margs\u001b[0m\u001b[1;33m[\u001b[0m\u001b[1;36m1\u001b[0m\u001b[1;33m:\u001b[0m\u001b[1;33m]\u001b[0m\u001b[1;33m\u001b[0m\u001b[1;33m\u001b[0m\u001b[0m\n\u001b[1;32m--> 315\u001b[1;33m             \u001b[1;32myield\u001b[0m \u001b[1;32mfrom\u001b[0m \u001b[0mself\u001b[0m\u001b[1;33m.\u001b[0m\u001b[0m_plot_args\u001b[0m\u001b[1;33m(\u001b[0m\u001b[0mthis\u001b[0m\u001b[1;33m,\u001b[0m \u001b[0mkwargs\u001b[0m\u001b[1;33m)\u001b[0m\u001b[1;33m\u001b[0m\u001b[1;33m\u001b[0m\u001b[0m\n\u001b[0m\u001b[0;32m    316\u001b[0m \u001b[1;33m\u001b[0m\u001b[0m\n\u001b[0;32m    317\u001b[0m     \u001b[1;32mdef\u001b[0m \u001b[0mget_next_color\u001b[0m\u001b[1;33m(\u001b[0m\u001b[0mself\u001b[0m\u001b[1;33m)\u001b[0m\u001b[1;33m:\u001b[0m\u001b[1;33m\u001b[0m\u001b[1;33m\u001b[0m\u001b[0m\n",
      "\u001b[1;32mc:\\Users\\MSI\\miniconda3\\envs\\d2l\\lib\\site-packages\\matplotlib\\axes\\_base.py\u001b[0m in \u001b[0;36m_plot_args\u001b[1;34m(self, tup, kwargs, return_kwargs)\u001b[0m\n\u001b[0;32m    499\u001b[0m \u001b[1;33m\u001b[0m\u001b[0m\n\u001b[0;32m    500\u001b[0m         \u001b[1;32mif\u001b[0m \u001b[0mx\u001b[0m\u001b[1;33m.\u001b[0m\u001b[0mshape\u001b[0m\u001b[1;33m[\u001b[0m\u001b[1;36m0\u001b[0m\u001b[1;33m]\u001b[0m \u001b[1;33m!=\u001b[0m \u001b[0my\u001b[0m\u001b[1;33m.\u001b[0m\u001b[0mshape\u001b[0m\u001b[1;33m[\u001b[0m\u001b[1;36m0\u001b[0m\u001b[1;33m]\u001b[0m\u001b[1;33m:\u001b[0m\u001b[1;33m\u001b[0m\u001b[1;33m\u001b[0m\u001b[0m\n\u001b[1;32m--> 501\u001b[1;33m             raise ValueError(f\"x and y must have same first dimension, but \"\n\u001b[0m\u001b[0;32m    502\u001b[0m                              f\"have shapes {x.shape} and {y.shape}\")\n\u001b[0;32m    503\u001b[0m         \u001b[1;32mif\u001b[0m \u001b[0mx\u001b[0m\u001b[1;33m.\u001b[0m\u001b[0mndim\u001b[0m \u001b[1;33m>\u001b[0m \u001b[1;36m2\u001b[0m \u001b[1;32mor\u001b[0m \u001b[0my\u001b[0m\u001b[1;33m.\u001b[0m\u001b[0mndim\u001b[0m \u001b[1;33m>\u001b[0m \u001b[1;36m2\u001b[0m\u001b[1;33m:\u001b[0m\u001b[1;33m\u001b[0m\u001b[1;33m\u001b[0m\u001b[0m\n",
      "\u001b[1;31mValueError\u001b[0m: x and y must have same first dimension, but have shapes (1000,) and (990,)"
     ]
    },
    {
     "data": {
      "image/png": "[encoded data removed]",
      "text/plain": [
       "<Figure size 432x288 with 1 Axes>"
      ]
     },
     "metadata": {
      "needs_background": "light"
     },
     "output_type": "display_data"
    }
   ],
   "source": [
    "import numpy as np\n",
    "import matplotlib.pyplot as plt\n",
    "from scipy.interpolate import interp1d\n",
    "\n",
    "# 生成100个原始数据点\n",
    "x = np.linspace(0, 10, 100)\n",
    "y = np.sin(x)\n",
    "\n",
    "# 初始化插值后的数据点\n",
    "x_new = np.linspace(0, 10, 1000)\n",
    "y_new = []\n",
    "\n",
    "# 对每一对相邻的原始数据点进行随机插值\n",
    "for i in range(len(x) - 1):\n",
    "    x_range = x[i:i + 2]\n",
    "    y_range = y[i:i + 2]\n",
    "\n",
    "    # 在只有两个点的情况下，只使用线性插值\n",
    "    method = 'linear'\n",
    "    \n",
    "    f = interp1d(x_range, y_range, kind=method)\n",
    "    x_interp = np.linspace(x_range[0], x_range[1], 10)  # 在每对相邻点之间生成10个新点\n",
    "    y_interp = f(x_interp)\n",
    "    \n",
    "    y_new.extend(y_interp)\n",
    "\n",
    "# 画图\n",
    "plt.figure()\n",
    "plt.scatter(x, y, label='Original Points')\n",
    "plt.plot(x_new, y_new, label='Interpolated Points')\n",
    "plt.legend()\n",
    "plt.show()"
   ]
  },
  {
   "cell_type": "code",
   "execution_count": 5,
   "metadata": {},
   "outputs": [
    {
     "ename": "ValueError",
     "evalue": "x and y must have same first dimension, but have shapes (1000,) and (90,)",
     "output_type": "error",
     "traceback": [
      "\u001b[1;31m---------------------------------------------------------------------------\u001b[0m",
      "\u001b[1;31mValueError\u001b[0m                                Traceback (most recent call last)",
      "\u001b[1;32m~\\AppData\\Local\\Temp/ipykernel_37664/207577325.py\u001b[0m in \u001b[0;36m<module>\u001b[1;34m\u001b[0m\n\u001b[0;32m     32\u001b[0m \u001b[0mplt\u001b[0m\u001b[1;33m.\u001b[0m\u001b[0mfigure\u001b[0m\u001b[1;33m(\u001b[0m\u001b[1;33m)\u001b[0m\u001b[1;33m\u001b[0m\u001b[1;33m\u001b[0m\u001b[0m\n\u001b[0;32m     33\u001b[0m \u001b[0mplt\u001b[0m\u001b[1;33m.\u001b[0m\u001b[0mscatter\u001b[0m\u001b[1;33m(\u001b[0m\u001b[0mx\u001b[0m\u001b[1;33m,\u001b[0m \u001b[0my\u001b[0m\u001b[1;33m,\u001b[0m \u001b[0mlabel\u001b[0m\u001b[1;33m=\u001b[0m\u001b[1;34m'Original Points'\u001b[0m\u001b[1;33m)\u001b[0m\u001b[1;33m\u001b[0m\u001b[1;33m\u001b[0m\u001b[0m\n\u001b[1;32m---> 34\u001b[1;33m \u001b[0mplt\u001b[0m\u001b[1;33m.\u001b[0m\u001b[0mplot\u001b[0m\u001b[1;33m(\u001b[0m\u001b[0mx_new\u001b[0m\u001b[1;33m,\u001b[0m \u001b[0my_new\u001b[0m\u001b[1;33m,\u001b[0m \u001b[0mlabel\u001b[0m\u001b[1;33m=\u001b[0m\u001b[1;34m'Interpolated Points'\u001b[0m\u001b[1;33m)\u001b[0m\u001b[1;33m\u001b[0m\u001b[1;33m\u001b[0m\u001b[0m\n\u001b[0m\u001b[0;32m     35\u001b[0m \u001b[0mplt\u001b[0m\u001b[1;33m.\u001b[0m\u001b[0mlegend\u001b[0m\u001b[1;33m(\u001b[0m\u001b[1;33m)\u001b[0m\u001b[1;33m\u001b[0m\u001b[1;33m\u001b[0m\u001b[0m\n\u001b[0;32m     36\u001b[0m \u001b[0mplt\u001b[0m\u001b[1;33m.\u001b[0m\u001b[0mshow\u001b[0m\u001b[1;33m(\u001b[0m\u001b[1;33m)\u001b[0m\u001b[1;33m\u001b[0m\u001b[1;33m\u001b[0m\u001b[0m\n",
      "\u001b[1;32mc:\\Users\\MSI\\miniconda3\\envs\\d2l\\lib\\site-packages\\matplotlib\\pyplot.py\u001b[0m in \u001b[0;36mplot\u001b[1;34m(scalex, scaley, data, *args, **kwargs)\u001b[0m\n\u001b[0;32m   3017\u001b[0m \u001b[1;33m@\u001b[0m\u001b[0m_copy_docstring_and_deprecators\u001b[0m\u001b[1;33m(\u001b[0m\u001b[0mAxes\u001b[0m\u001b[1;33m.\u001b[0m\u001b[0mplot\u001b[0m\u001b[1;33m)\u001b[0m\u001b[1;33m\u001b[0m\u001b[1;33m\u001b[0m\u001b[0m\n\u001b[0;32m   3018\u001b[0m \u001b[1;32mdef\u001b[0m \u001b[0mplot\u001b[0m\u001b[1;33m(\u001b[0m\u001b[1;33m*\u001b[0m\u001b[0margs\u001b[0m\u001b[1;33m,\u001b[0m \u001b[0mscalex\u001b[0m\u001b[1;33m=\u001b[0m\u001b[1;32mTrue\u001b[0m\u001b[1;33m,\u001b[0m \u001b[0mscaley\u001b[0m\u001b[1;33m=\u001b[0m\u001b[1;32mTrue\u001b[0m\u001b[1;33m,\u001b[0m \u001b[0mdata\u001b[0m\u001b[1;33m=\u001b[0m\u001b[1;32mNone\u001b[0m\u001b[1;33m,\u001b[0m \u001b[1;33m**\u001b[0m\u001b[0mkwargs\u001b[0m\u001b[1;33m)\u001b[0m\u001b[1;33m:\u001b[0m\u001b[1;33m\u001b[0m\u001b[1;33m\u001b[0m\u001b[0m\n\u001b[1;32m-> 3019\u001b[1;33m     return gca().plot(\n\u001b[0m\u001b[0;32m   3020\u001b[0m         \u001b[1;33m*\u001b[0m\u001b[0margs\u001b[0m\u001b[1;33m,\u001b[0m \u001b[0mscalex\u001b[0m\u001b[1;33m=\u001b[0m\u001b[0mscalex\u001b[0m\u001b[1;33m,\u001b[0m \u001b[0mscaley\u001b[0m\u001b[1;33m=\u001b[0m\u001b[0mscaley\u001b[0m\u001b[1;33m,\u001b[0m\u001b[1;33m\u001b[0m\u001b[1;33m\u001b[0m\u001b[0m\n\u001b[0;32m   3021\u001b[0m         **({\"data\": data} if data is not None else {}), **kwargs)\n",
      "\u001b[1;32mc:\\Users\\MSI\\miniconda3\\envs\\d2l\\lib\\site-packages\\matplotlib\\axes\\_axes.py\u001b[0m in \u001b[0;36mplot\u001b[1;34m(self, scalex, scaley, data, *args, **kwargs)\u001b[0m\n\u001b[0;32m   1603\u001b[0m         \"\"\"\n\u001b[0;32m   1604\u001b[0m         \u001b[0mkwargs\u001b[0m \u001b[1;33m=\u001b[0m \u001b[0mcbook\u001b[0m\u001b[1;33m.\u001b[0m\u001b[0mnormalize_kwargs\u001b[0m\u001b[1;33m(\u001b[0m\u001b[0mkwargs\u001b[0m\u001b[1;33m,\u001b[0m \u001b[0mmlines\u001b[0m\u001b[1;33m.\u001b[0m\u001b[0mLine2D\u001b[0m\u001b[1;33m)\u001b[0m\u001b[1;33m\u001b[0m\u001b[1;33m\u001b[0m\u001b[0m\n\u001b[1;32m-> 1605\u001b[1;33m         \u001b[0mlines\u001b[0m \u001b[1;33m=\u001b[0m \u001b[1;33m[\u001b[0m\u001b[1;33m*\u001b[0m\u001b[0mself\u001b[0m\u001b[1;33m.\u001b[0m\u001b[0m_get_lines\u001b[0m\u001b[1;33m(\u001b[0m\u001b[1;33m*\u001b[0m\u001b[0margs\u001b[0m\u001b[1;33m,\u001b[0m \u001b[0mdata\u001b[0m\u001b[1;33m=\u001b[0m\u001b[0mdata\u001b[0m\u001b[1;33m,\u001b[0m \u001b[1;33m**\u001b[0m\u001b[0mkwargs\u001b[0m\u001b[1;33m)\u001b[0m\u001b[1;33m]\u001b[0m\u001b[1;33m\u001b[0m\u001b[1;33m\u001b[0m\u001b[0m\n\u001b[0m\u001b[0;32m   1606\u001b[0m         \u001b[1;32mfor\u001b[0m \u001b[0mline\u001b[0m \u001b[1;32min\u001b[0m \u001b[0mlines\u001b[0m\u001b[1;33m:\u001b[0m\u001b[1;33m\u001b[0m\u001b[1;33m\u001b[0m\u001b[0m\n\u001b[0;32m   1607\u001b[0m             \u001b[0mself\u001b[0m\u001b[1;33m.\u001b[0m\u001b[0madd_line\u001b[0m\u001b[1;33m(\u001b[0m\u001b[0mline\u001b[0m\u001b[1;33m)\u001b[0m\u001b[1;33m\u001b[0m\u001b[1;33m\u001b[0m\u001b[0m\n",
      "\u001b[1;32mc:\\Users\\MSI\\miniconda3\\envs\\d2l\\lib\\site-packages\\matplotlib\\axes\\_base.py\u001b[0m in \u001b[0;36m__call__\u001b[1;34m(self, data, *args, **kwargs)\u001b[0m\n\u001b[0;32m    313\u001b[0m                 \u001b[0mthis\u001b[0m \u001b[1;33m+=\u001b[0m \u001b[0margs\u001b[0m\u001b[1;33m[\u001b[0m\u001b[1;36m0\u001b[0m\u001b[1;33m]\u001b[0m\u001b[1;33m,\u001b[0m\u001b[1;33m\u001b[0m\u001b[1;33m\u001b[0m\u001b[0m\n\u001b[0;32m    314\u001b[0m                 \u001b[0margs\u001b[0m \u001b[1;33m=\u001b[0m \u001b[0margs\u001b[0m\u001b[1;33m[\u001b[0m\u001b[1;36m1\u001b[0m\u001b[1;33m:\u001b[0m\u001b[1;33m]\u001b[0m\u001b[1;33m\u001b[0m\u001b[1;33m\u001b[0m\u001b[0m\n\u001b[1;32m--> 315\u001b[1;33m             \u001b[1;32myield\u001b[0m \u001b[1;32mfrom\u001b[0m \u001b[0mself\u001b[0m\u001b[1;33m.\u001b[0m\u001b[0m_plot_args\u001b[0m\u001b[1;33m(\u001b[0m\u001b[0mthis\u001b[0m\u001b[1;33m,\u001b[0m \u001b[0mkwargs\u001b[0m\u001b[1;33m)\u001b[0m\u001b[1;33m\u001b[0m\u001b[1;33m\u001b[0m\u001b[0m\n\u001b[0m\u001b[0;32m    316\u001b[0m \u001b[1;33m\u001b[0m\u001b[0m\n\u001b[0;32m    317\u001b[0m     \u001b[1;32mdef\u001b[0m \u001b[0mget_next_color\u001b[0m\u001b[1;33m(\u001b[0m\u001b[0mself\u001b[0m\u001b[1;33m)\u001b[0m\u001b[1;33m:\u001b[0m\u001b[1;33m\u001b[0m\u001b[1;33m\u001b[0m\u001b[0m\n",
      "\u001b[1;32mc:\\Users\\MSI\\miniconda3\\envs\\d2l\\lib\\site-packages\\matplotlib\\axes\\_base.py\u001b[0m in \u001b[0;36m_plot_args\u001b[1;34m(self, tup, kwargs, return_kwargs)\u001b[0m\n\u001b[0;32m    499\u001b[0m \u001b[1;33m\u001b[0m\u001b[0m\n\u001b[0;32m    500\u001b[0m         \u001b[1;32mif\u001b[0m \u001b[0mx\u001b[0m\u001b[1;33m.\u001b[0m\u001b[0mshape\u001b[0m\u001b[1;33m[\u001b[0m\u001b[1;36m0\u001b[0m\u001b[1;33m]\u001b[0m \u001b[1;33m!=\u001b[0m \u001b[0my\u001b[0m\u001b[1;33m.\u001b[0m\u001b[0mshape\u001b[0m\u001b[1;33m[\u001b[0m\u001b[1;36m0\u001b[0m\u001b[1;33m]\u001b[0m\u001b[1;33m:\u001b[0m\u001b[1;33m\u001b[0m\u001b[1;33m\u001b[0m\u001b[0m\n\u001b[1;32m--> 501\u001b[1;33m             raise ValueError(f\"x and y must have same first dimension, but \"\n\u001b[0m\u001b[0;32m    502\u001b[0m                              f\"have shapes {x.shape} and {y.shape}\")\n\u001b[0;32m    503\u001b[0m         \u001b[1;32mif\u001b[0m \u001b[0mx\u001b[0m\u001b[1;33m.\u001b[0m\u001b[0mndim\u001b[0m \u001b[1;33m>\u001b[0m \u001b[1;36m2\u001b[0m \u001b[1;32mor\u001b[0m \u001b[0my\u001b[0m\u001b[1;33m.\u001b[0m\u001b[0mndim\u001b[0m \u001b[1;33m>\u001b[0m \u001b[1;36m2\u001b[0m\u001b[1;33m:\u001b[0m\u001b[1;33m\u001b[0m\u001b[1;33m\u001b[0m\u001b[0m\n",
      "\u001b[1;31mValueError\u001b[0m: x and y must have same first dimension, but have shapes (1000,) and (90,)"
     ]
    },
    {
     "data": {
      "image/png": "[encoded data removed]",
      "text/plain": [
       "<Figure size 432x288 with 1 Axes>"
      ]
     },
     "metadata": {
      "needs_background": "light"
     },
     "output_type": "display_data"
    }
   ],
   "source": [
    "import numpy as np\n",
    "import matplotlib.pyplot as plt\n",
    "from scipy.interpolate import interp1d\n",
    "\n",
    "# 生成100个原始数据点\n",
    "x = np.linspace(0, 10, 10)\n",
    "y = np.sin(x)\n",
    "\n",
    "# 初始化插值后的数据点\n",
    "x_new = np.linspace(0, 10, 1000)\n",
    "y_new = []\n",
    "\n",
    "# 对每一对相邻的原始数据点进行随机插值\n",
    "for i in range(len(x) - 1):\n",
    "    x_range = x[i:i + 2]\n",
    "    y_range = y[i:i + 2]\n",
    "\n",
    "    # 在只有两个点的情况下，只使用线性插值\n",
    "    method = 'linear'\n",
    "    \n",
    "    f = interp1d(x_range, y_range, kind=method)\n",
    "    x_interp = np.linspace(x_range[0], x_range[1], 10)  # 在每对相邻点之间生成10个新点\n",
    "    y_interp = f(x_interp)\n",
    "    \n",
    "    # 添加随机噪声\n",
    "    noise = 0.1 * np.random.normal(size=len(y_interp))\n",
    "    y_interp += noise\n",
    "    \n",
    "    y_new.extend(y_interp)\n",
    "\n",
    "# 画图\n",
    "plt.figure()\n",
    "plt.scatter(x, y, label='Original Points')\n",
    "plt.plot(x_new, y_new, label='Interpolated Points')\n",
    "plt.legend()\n",
    "plt.show()\n"
   ]
  },
  {
   "cell_type": "code",
   "execution_count": 6,
   "metadata": {},
   "outputs": [
    {
     "ename": "ValueError",
     "evalue": "x and y must have same first dimension, but have shapes (1000,) and (900,)",
     "output_type": "error",
     "traceback": [
      "\u001b[1;31m---------------------------------------------------------------------------\u001b[0m",
      "\u001b[1;31mValueError\u001b[0m                                Traceback (most recent call last)",
      "\u001b[1;32m~\\AppData\\Local\\Temp/ipykernel_37664/972833831.py\u001b[0m in \u001b[0;36m<module>\u001b[1;34m\u001b[0m\n\u001b[0;32m     32\u001b[0m \u001b[0mplt\u001b[0m\u001b[1;33m.\u001b[0m\u001b[0mfigure\u001b[0m\u001b[1;33m(\u001b[0m\u001b[1;33m)\u001b[0m\u001b[1;33m\u001b[0m\u001b[1;33m\u001b[0m\u001b[0m\n\u001b[0;32m     33\u001b[0m \u001b[0mplt\u001b[0m\u001b[1;33m.\u001b[0m\u001b[0mscatter\u001b[0m\u001b[1;33m(\u001b[0m\u001b[0mx\u001b[0m\u001b[1;33m,\u001b[0m \u001b[0my\u001b[0m\u001b[1;33m,\u001b[0m \u001b[0mlabel\u001b[0m\u001b[1;33m=\u001b[0m\u001b[1;34m'Original Points'\u001b[0m\u001b[1;33m,\u001b[0m \u001b[0mc\u001b[0m\u001b[1;33m=\u001b[0m\u001b[1;34m'red'\u001b[0m\u001b[1;33m)\u001b[0m\u001b[1;33m\u001b[0m\u001b[1;33m\u001b[0m\u001b[0m\n\u001b[1;32m---> 34\u001b[1;33m \u001b[0mplt\u001b[0m\u001b[1;33m.\u001b[0m\u001b[0mplot\u001b[0m\u001b[1;33m(\u001b[0m\u001b[0mx_new\u001b[0m\u001b[1;33m,\u001b[0m \u001b[0my_new\u001b[0m\u001b[1;33m,\u001b[0m \u001b[0mlabel\u001b[0m\u001b[1;33m=\u001b[0m\u001b[1;34m'Interpolated Points'\u001b[0m\u001b[1;33m)\u001b[0m\u001b[1;33m\u001b[0m\u001b[1;33m\u001b[0m\u001b[0m\n\u001b[0m\u001b[0;32m     35\u001b[0m \u001b[0mplt\u001b[0m\u001b[1;33m.\u001b[0m\u001b[0mlegend\u001b[0m\u001b[1;33m(\u001b[0m\u001b[1;33m)\u001b[0m\u001b[1;33m\u001b[0m\u001b[1;33m\u001b[0m\u001b[0m\n\u001b[0;32m     36\u001b[0m \u001b[0mplt\u001b[0m\u001b[1;33m.\u001b[0m\u001b[0mshow\u001b[0m\u001b[1;33m(\u001b[0m\u001b[1;33m)\u001b[0m\u001b[1;33m\u001b[0m\u001b[1;33m\u001b[0m\u001b[0m\n",
      "\u001b[1;32mc:\\Users\\MSI\\miniconda3\\envs\\d2l\\lib\\site-packages\\matplotlib\\pyplot.py\u001b[0m in \u001b[0;36mplot\u001b[1;34m(scalex, scaley, data, *args, **kwargs)\u001b[0m\n\u001b[0;32m   3017\u001b[0m \u001b[1;33m@\u001b[0m\u001b[0m_copy_docstring_and_deprecators\u001b[0m\u001b[1;33m(\u001b[0m\u001b[0mAxes\u001b[0m\u001b[1;33m.\u001b[0m\u001b[0mplot\u001b[0m\u001b[1;33m)\u001b[0m\u001b[1;33m\u001b[0m\u001b[1;33m\u001b[0m\u001b[0m\n\u001b[0;32m   3018\u001b[0m \u001b[1;32mdef\u001b[0m \u001b[0mplot\u001b[0m\u001b[1;33m(\u001b[0m\u001b[1;33m*\u001b[0m\u001b[0margs\u001b[0m\u001b[1;33m,\u001b[0m \u001b[0mscalex\u001b[0m\u001b[1;33m=\u001b[0m\u001b[1;32mTrue\u001b[0m\u001b[1;33m,\u001b[0m \u001b[0mscaley\u001b[0m\u001b[1;33m=\u001b[0m\u001b[1;32mTrue\u001b[0m\u001b[1;33m,\u001b[0m \u001b[0mdata\u001b[0m\u001b[1;33m=\u001b[0m\u001b[1;32mNone\u001b[0m\u001b[1;33m,\u001b[0m \u001b[1;33m**\u001b[0m\u001b[0mkwargs\u001b[0m\u001b[1;33m)\u001b[0m\u001b[1;33m:\u001b[0m\u001b[1;33m\u001b[0m\u001b[1;33m\u001b[0m\u001b[0m\n\u001b[1;32m-> 3019\u001b[1;33m     return gca().plot(\n\u001b[0m\u001b[0;32m   3020\u001b[0m         \u001b[1;33m*\u001b[0m\u001b[0margs\u001b[0m\u001b[1;33m,\u001b[0m \u001b[0mscalex\u001b[0m\u001b[1;33m=\u001b[0m\u001b[0mscalex\u001b[0m\u001b[1;33m,\u001b[0m \u001b[0mscaley\u001b[0m\u001b[1;33m=\u001b[0m\u001b[0mscaley\u001b[0m\u001b[1;33m,\u001b[0m\u001b[1;33m\u001b[0m\u001b[1;33m\u001b[0m\u001b[0m\n\u001b[0;32m   3021\u001b[0m         **({\"data\": data} if data is not None else {}), **kwargs)\n",
      "\u001b[1;32mc:\\Users\\MSI\\miniconda3\\envs\\d2l\\lib\\site-packages\\matplotlib\\axes\\_axes.py\u001b[0m in \u001b[0;36mplot\u001b[1;34m(self, scalex, scaley, data, *args, **kwargs)\u001b[0m\n\u001b[0;32m   1603\u001b[0m         \"\"\"\n\u001b[0;32m   1604\u001b[0m         \u001b[0mkwargs\u001b[0m \u001b[1;33m=\u001b[0m \u001b[0mcbook\u001b[0m\u001b[1;33m.\u001b[0m\u001b[0mnormalize_kwargs\u001b[0m\u001b[1;33m(\u001b[0m\u001b[0mkwargs\u001b[0m\u001b[1;33m,\u001b[0m \u001b[0mmlines\u001b[0m\u001b[1;33m.\u001b[0m\u001b[0mLine2D\u001b[0m\u001b[1;33m)\u001b[0m\u001b[1;33m\u001b[0m\u001b[1;33m\u001b[0m\u001b[0m\n\u001b[1;32m-> 1605\u001b[1;33m         \u001b[0mlines\u001b[0m \u001b[1;33m=\u001b[0m \u001b[1;33m[\u001b[0m\u001b[1;33m*\u001b[0m\u001b[0mself\u001b[0m\u001b[1;33m.\u001b[0m\u001b[0m_get_lines\u001b[0m\u001b[1;33m(\u001b[0m\u001b[1;33m*\u001b[0m\u001b[0margs\u001b[0m\u001b[1;33m,\u001b[0m \u001b[0mdata\u001b[0m\u001b[1;33m=\u001b[0m\u001b[0mdata\u001b[0m\u001b[1;33m,\u001b[0m \u001b[1;33m**\u001b[0m\u001b[0mkwargs\u001b[0m\u001b[1;33m)\u001b[0m\u001b[1;33m]\u001b[0m\u001b[1;33m\u001b[0m\u001b[1;33m\u001b[0m\u001b[0m\n\u001b[0m\u001b[0;32m   1606\u001b[0m         \u001b[1;32mfor\u001b[0m \u001b[0mline\u001b[0m \u001b[1;32min\u001b[0m \u001b[0mlines\u001b[0m\u001b[1;33m:\u001b[0m\u001b[1;33m\u001b[0m\u001b[1;33m\u001b[0m\u001b[0m\n\u001b[0;32m   1607\u001b[0m             \u001b[0mself\u001b[0m\u001b[1;33m.\u001b[0m\u001b[0madd_line\u001b[0m\u001b[1;33m(\u001b[0m\u001b[0mline\u001b[0m\u001b[1;33m)\u001b[0m\u001b[1;33m\u001b[0m\u001b[1;33m\u001b[0m\u001b[0m\n",
      "\u001b[1;32mc:\\Users\\MSI\\miniconda3\\envs\\d2l\\lib\\site-packages\\matplotlib\\axes\\_base.py\u001b[0m in \u001b[0;36m__call__\u001b[1;34m(self, data, *args, **kwargs)\u001b[0m\n\u001b[0;32m    313\u001b[0m                 \u001b[0mthis\u001b[0m \u001b[1;33m+=\u001b[0m \u001b[0margs\u001b[0m\u001b[1;33m[\u001b[0m\u001b[1;36m0\u001b[0m\u001b[1;33m]\u001b[0m\u001b[1;33m,\u001b[0m\u001b[1;33m\u001b[0m\u001b[1;33m\u001b[0m\u001b[0m\n\u001b[0;32m    314\u001b[0m                 \u001b[0margs\u001b[0m \u001b[1;33m=\u001b[0m \u001b[0margs\u001b[0m\u001b[1;33m[\u001b[0m\u001b[1;36m1\u001b[0m\u001b[1;33m:\u001b[0m\u001b[1;33m]\u001b[0m\u001b[1;33m\u001b[0m\u001b[1;33m\u001b[0m\u001b[0m\n\u001b[1;32m--> 315\u001b[1;33m             \u001b[1;32myield\u001b[0m \u001b[1;32mfrom\u001b[0m \u001b[0mself\u001b[0m\u001b[1;33m.\u001b[0m\u001b[0m_plot_args\u001b[0m\u001b[1;33m(\u001b[0m\u001b[0mthis\u001b[0m\u001b[1;33m,\u001b[0m \u001b[0mkwargs\u001b[0m\u001b[1;33m)\u001b[0m\u001b[1;33m\u001b[0m\u001b[1;33m\u001b[0m\u001b[0m\n\u001b[0m\u001b[0;32m    316\u001b[0m \u001b[1;33m\u001b[0m\u001b[0m\n\u001b[0;32m    317\u001b[0m     \u001b[1;32mdef\u001b[0m \u001b[0mget_next_color\u001b[0m\u001b[1;33m(\u001b[0m\u001b[0mself\u001b[0m\u001b[1;33m)\u001b[0m\u001b[1;33m:\u001b[0m\u001b[1;33m\u001b[0m\u001b[1;33m\u001b[0m\u001b[0m\n",
      "\u001b[1;32mc:\\Users\\MSI\\miniconda3\\envs\\d2l\\lib\\site-packages\\matplotlib\\axes\\_base.py\u001b[0m in \u001b[0;36m_plot_args\u001b[1;34m(self, tup, kwargs, return_kwargs)\u001b[0m\n\u001b[0;32m    499\u001b[0m \u001b[1;33m\u001b[0m\u001b[0m\n\u001b[0;32m    500\u001b[0m         \u001b[1;32mif\u001b[0m \u001b[0mx\u001b[0m\u001b[1;33m.\u001b[0m\u001b[0mshape\u001b[0m\u001b[1;33m[\u001b[0m\u001b[1;36m0\u001b[0m\u001b[1;33m]\u001b[0m \u001b[1;33m!=\u001b[0m \u001b[0my\u001b[0m\u001b[1;33m.\u001b[0m\u001b[0mshape\u001b[0m\u001b[1;33m[\u001b[0m\u001b[1;36m0\u001b[0m\u001b[1;33m]\u001b[0m\u001b[1;33m:\u001b[0m\u001b[1;33m\u001b[0m\u001b[1;33m\u001b[0m\u001b[0m\n\u001b[1;32m--> 501\u001b[1;33m             raise ValueError(f\"x and y must have same first dimension, but \"\n\u001b[0m\u001b[0;32m    502\u001b[0m                              f\"have shapes {x.shape} and {y.shape}\")\n\u001b[0;32m    503\u001b[0m         \u001b[1;32mif\u001b[0m \u001b[0mx\u001b[0m\u001b[1;33m.\u001b[0m\u001b[0mndim\u001b[0m \u001b[1;33m>\u001b[0m \u001b[1;36m2\u001b[0m \u001b[1;32mor\u001b[0m \u001b[0my\u001b[0m\u001b[1;33m.\u001b[0m\u001b[0mndim\u001b[0m \u001b[1;33m>\u001b[0m \u001b[1;36m2\u001b[0m\u001b[1;33m:\u001b[0m\u001b[1;33m\u001b[0m\u001b[1;33m\u001b[0m\u001b[0m\n",
      "\u001b[1;31mValueError\u001b[0m: x and y must have same first dimension, but have shapes (1000,) and (900,)"
     ]
    },
    {
     "data": {
      "image/png": "[encoded data removed]",
      "text/plain": [
       "<Figure size 432x288 with 1 Axes>"
      ]
     },
     "metadata": {
      "needs_background": "light"
     },
     "output_type": "display_data"
    }
   ],
   "source": [
    "import numpy as np\n",
    "import matplotlib.pyplot as plt\n",
    "from scipy.interpolate import interp1d\n",
    "\n",
    "# 生成10个原始数据点\n",
    "x = np.linspace(0, 10, 10)\n",
    "y = np.sin(x)\n",
    "\n",
    "# 初始化插值后的数据点\n",
    "x_new = np.linspace(0, 10, 1000)\n",
    "y_new = []\n",
    "\n",
    "# 对每一对相邻的原始数据点进行随机插值\n",
    "for i in range(len(x) - 1):\n",
    "    x_range = x[i:i + 2]\n",
    "    y_range = y[i:i + 2]\n",
    "\n",
    "    # 在只有两个点的情况下，只使用线性插值\n",
    "    method = 'linear'\n",
    "    \n",
    "    f = interp1d(x_range, y_range, kind=method)\n",
    "    x_interp = np.linspace(x_range[0], x_range[1], 100)  # 在每对相邻点之间生成100个新点\n",
    "    y_interp = f(x_interp)\n",
    "    \n",
    "    # 添加随机噪声\n",
    "    noise = 0.1 * np.random.normal(size=len(y_interp))\n",
    "    y_interp += noise\n",
    "    \n",
    "    y_new.extend(y_interp)\n",
    "\n",
    "# 画图\n",
    "plt.figure()\n",
    "plt.scatter(x, y, label='Original Points', c='red')\n",
    "plt.plot(x_new, y_new, label='Interpolated Points')\n",
    "plt.legend()\n",
    "plt.show()\n"
   ]
  },
  {
   "cell_type": "code",
   "execution_count": 7,
   "metadata": {},
   "outputs": [
    {
     "data": {
      "image/png": "[encoded data removed]",
      "text/plain": [
       "<Figure size 432x288 with 1 Axes>"
      ]
     },
     "metadata": {
      "needs_background": "light"
     },
     "output_type": "display_data"
    }
   ],
   "source": [
    "import numpy as np\n",
    "import matplotlib.pyplot as plt\n",
    "from scipy.interpolate import interp1d\n",
    "\n",
    "# 生成10个原始数据点\n",
    "x = np.linspace(0, 10, 10)\n",
    "y = np.sin(x)\n",
    "\n",
    "# 初始化插值后的数据点列表\n",
    "y_new = []\n",
    "\n",
    "# 对每一对相邻的原始数据点进行随机插值\n",
    "for i in range(len(x) - 1):\n",
    "    x_range = x[i:i + 2]\n",
    "    y_range = y[i:i + 2]\n",
    "\n",
    "    # 使用线性插值\n",
    "    method = 'linear'\n",
    "    \n",
    "    f = interp1d(x_range, y_range, kind=method)\n",
    "    x_interp = np.linspace(x_range[0], x_range[1], 111)  # 在每对相邻点之间生成111个新点\n",
    "    y_interp = f(x_interp)\n",
    "    \n",
    "    # 添加随机噪声\n",
    "    noise = 0.1 * np.random.normal(size=len(y_interp))\n",
    "    y_interp += noise\n",
    "    \n",
    "    # 除了最后一次迭代，去掉每次插值的最后一个点以避免重复\n",
    "    if i < len(x) - 2:\n",
    "        y_new.extend(y_interp[:-1])\n",
    "    else:\n",
    "        y_new.extend(y_interp)\n",
    "\n",
    "# 创建新的x轴数据点\n",
    "x_new = np.linspace(0, 10, len(y_new))\n",
    "\n",
    "# 画图\n",
    "plt.figure()\n",
    "plt.scatter(x, y, label='Original Points', c='red')\n",
    "plt.plot(x_new, y_new, label='Interpolated Points')\n",
    "plt.legend()\n",
    "plt.show()\n"
   ]
  },
  {
   "cell_type": "code",
   "execution_count": null,
   "metadata": {},
   "outputs": [],
   "source": []
  }
 ],
 "metadata": {
  "kernelspec": {
   "display_name": "d2l-zh",
   "language": "python",
   "name": "python3"
  },
  "language_info": {
   "codemirror_mode": {
    "name": "ipython",
    "version": 3
   },
   "file_extension": ".py",
   "mimetype": "text/x-python",
   "name": "python",
   "nbconvert_exporter": "python",
   "pygments_lexer": "ipython3",
   "version": "3.8.11"
  },
  "orig_nbformat": 4,
  "vscode": {
   "interpreter": {
    "hash": "beb37d7b78bf3788f54259aa41c6c1e59fac34bf95ae5ff22b978ccc20cf7a1c"
   }
  }
 },
 "nbformat": 4,
 "nbformat_minor": 2
}
